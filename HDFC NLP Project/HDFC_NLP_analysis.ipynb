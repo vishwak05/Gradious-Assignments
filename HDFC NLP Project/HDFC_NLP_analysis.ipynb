{
 "cells": [
  {
   "cell_type": "markdown",
   "id": "8362527c",
   "metadata": {},
   "source": [
    "# Complaint Classification using Neural Networks and NLP\n",
    "\n",
    "**Objective:**\n",
    "\n",
    "Build a model that can classify customer complaints into predefined categories using Natural Language Processing (NLP) and Neural Networks.\n",
    "\n",
    "**Project Tasks:**\n",
    "\n",
    "**1. Data Understanding & Preprocessing**\n",
    "\n",
    "- Perform **Exploratory Data Analysis (EDA)**:\n",
    "    - Class distribution\n",
    "    - Complaint length analysis\n",
    "    - Word cloud for each category (optional)\n",
    "- Text Cleaning:\n",
    "    - Lowercasing\n",
    "    - Removing punctuation\n",
    "    - Removing stopwords\n",
    "    - Lemmatization or stemming\n",
    "    \n",
    "**2. Text Vectorization (Feature Extraction)**\n",
    "- **Mandatory**: Use **Word Embeddings**:\n",
    "    - Pre-trained: GloVe, Word2Vec, or FastText (recommended)\n",
    "    - Or train embeddings from scratch using Embedding Layer in Keras/PyTorch\n",
    "- Optional: Compare with TF-IDF + Dense Neural Networks\n",
    "\n",
    "**3. Model Building (Neural Networks)**\n",
    "- **Baseline**: Build a simple feedforward Neural Network using embeddings.\n",
    "- **Advanced**: Build a Recurrent Neural Network (RNN) or LSTM model for sequence modelling.\n",
    "- **Optional**: Try ID Convolutional Neural Networks (CNNs) for text classification.\n",
    "\n",
    "**4. Model Evaluation**\n",
    "- Accuracy, Precision, Recall, Fl-Score per class\n",
    "- Confusion Matrix\n",
    "- Training vs. Validation loss and accuracy plots\n",
    "\n",
    "**5. Model Optimization**\n",
    "- Try different optimizers, batch sizes, learning rates.\n",
    "- Experiment with dropout, regularization, embedding size.\n",
    "\n",
    "**Rules:**\n",
    "- Do not use traditional ML models (like SVM, Random Forest, etc.).\n",
    "- Must use neural networks (Feedforward, LSTM, GRU, CNN etc.).\n",
    "- No direct copying of code from online tutorials; they can take references but the implementation must be custom.\n",
    "\n",
    "**Bonus Ideas:**\n",
    "- Visualize attention weights (if using advanced models)\n",
    "- Handle multi-label classification if the dataset allows\n",
    "- Perform error analysis on misclassified samples"
   ]
  },
  {
   "cell_type": "code",
   "execution_count": 1,
   "id": "c1ac2236",
   "metadata": {},
   "outputs": [],
   "source": [
    "import pandas as pd\n",
    "import numpy as np\n",
    "import matplotlib.pyplot as plt\n",
    "import seaborn as sns"
   ]
  },
  {
   "cell_type": "code",
   "execution_count": 12,
   "id": "d4603333",
   "metadata": {},
   "outputs": [
    {
     "data": {
      "text/html": [
       "<div>\n",
       "<style scoped>\n",
       "    .dataframe tbody tr th:only-of-type {\n",
       "        vertical-align: middle;\n",
       "    }\n",
       "\n",
       "    .dataframe tbody tr th {\n",
       "        vertical-align: top;\n",
       "    }\n",
       "\n",
       "    .dataframe thead th {\n",
       "        text-align: right;\n",
       "    }\n",
       "</style>\n",
       "<table border=\"1\" class=\"dataframe\">\n",
       "  <thead>\n",
       "    <tr style=\"text-align: right;\">\n",
       "      <th></th>\n",
       "      <th>Complaint ID</th>\n",
       "      <th>Complaint Text</th>\n",
       "      <th>Category</th>\n",
       "    </tr>\n",
       "  </thead>\n",
       "  <tbody>\n",
       "    <tr>\n",
       "      <th>0</th>\n",
       "      <td>1</td>\n",
       "      <td>Incorrect deduction of annual credit card fee.</td>\n",
       "      <td>Notification Issue</td>\n",
       "    </tr>\n",
       "    <tr>\n",
       "      <th>1</th>\n",
       "      <td>2</td>\n",
       "      <td>Incorrect charges on my account statement.</td>\n",
       "      <td>Credit Card Issue</td>\n",
       "    </tr>\n",
       "    <tr>\n",
       "      <th>2</th>\n",
       "      <td>3</td>\n",
       "      <td>Incorrect charges on my account statement.</td>\n",
       "      <td>Credit Card Issue</td>\n",
       "    </tr>\n",
       "    <tr>\n",
       "      <th>3</th>\n",
       "      <td>4</td>\n",
       "      <td>Net banking account got locked without reason.</td>\n",
       "      <td>Account Issue</td>\n",
       "    </tr>\n",
       "    <tr>\n",
       "      <th>4</th>\n",
       "      <td>5</td>\n",
       "      <td>Online fund transfer failed but money was debi...</td>\n",
       "      <td>Notification Issue</td>\n",
       "    </tr>\n",
       "    <tr>\n",
       "      <th>...</th>\n",
       "      <td>...</td>\n",
       "      <td>...</td>\n",
       "      <td>...</td>\n",
       "    </tr>\n",
       "    <tr>\n",
       "      <th>5995</th>\n",
       "      <td>5996</td>\n",
       "      <td>ATM did not dispense cash but the amount was d...</td>\n",
       "      <td>Net Banking Issue</td>\n",
       "    </tr>\n",
       "    <tr>\n",
       "      <th>5996</th>\n",
       "      <td>5997</td>\n",
       "      <td>Incorrect deduction of annual credit card fee.</td>\n",
       "      <td>Net Banking Issue</td>\n",
       "    </tr>\n",
       "    <tr>\n",
       "      <th>5997</th>\n",
       "      <td>5998</td>\n",
       "      <td>Mobile banking app is frequently crashing.</td>\n",
       "      <td>Notification Issue</td>\n",
       "    </tr>\n",
       "    <tr>\n",
       "      <th>5998</th>\n",
       "      <td>5999</td>\n",
       "      <td>Delay in issuing new debit card.</td>\n",
       "      <td>Account Issue</td>\n",
       "    </tr>\n",
       "    <tr>\n",
       "      <th>5999</th>\n",
       "      <td>6000</td>\n",
       "      <td>HDFC Bank - ATM did not dispense cash but the ...</td>\n",
       "      <td>Account Issue</td>\n",
       "    </tr>\n",
       "  </tbody>\n",
       "</table>\n",
       "<p>6000 rows × 3 columns</p>\n",
       "</div>"
      ],
      "text/plain": [
       "      Complaint ID                                     Complaint Text  \\\n",
       "0                1     Incorrect deduction of annual credit card fee.   \n",
       "1                2         Incorrect charges on my account statement.   \n",
       "2                3         Incorrect charges on my account statement.   \n",
       "3                4     Net banking account got locked without reason.   \n",
       "4                5  Online fund transfer failed but money was debi...   \n",
       "...            ...                                                ...   \n",
       "5995          5996  ATM did not dispense cash but the amount was d...   \n",
       "5996          5997     Incorrect deduction of annual credit card fee.   \n",
       "5997          5998         Mobile banking app is frequently crashing.   \n",
       "5998          5999                   Delay in issuing new debit card.   \n",
       "5999          6000  HDFC Bank - ATM did not dispense cash but the ...   \n",
       "\n",
       "                Category  \n",
       "0     Notification Issue  \n",
       "1      Credit Card Issue  \n",
       "2      Credit Card Issue  \n",
       "3          Account Issue  \n",
       "4     Notification Issue  \n",
       "...                  ...  \n",
       "5995   Net Banking Issue  \n",
       "5996   Net Banking Issue  \n",
       "5997  Notification Issue  \n",
       "5998       Account Issue  \n",
       "5999       Account Issue  \n",
       "\n",
       "[6000 rows x 3 columns]"
      ]
     },
     "execution_count": 12,
     "metadata": {},
     "output_type": "execute_result"
    }
   ],
   "source": [
    "hdfc_data = pd.read_csv('HDFC_Bank_Complaints_Dataset.csv')\n",
    "hdfc_data"
   ]
  },
  {
   "cell_type": "code",
   "execution_count": 17,
   "id": "88da09a5",
   "metadata": {},
   "outputs": [],
   "source": [
    "# rename Complaint Text to Complaint_Text\n",
    "hdfc_data.rename(columns={'Complaint Text': 'Complaint_Text'}, inplace=True)"
   ]
  },
  {
   "cell_type": "code",
   "execution_count": 18,
   "id": "7c07f961",
   "metadata": {},
   "outputs": [
    {
     "name": "stdout",
     "output_type": "stream",
     "text": [
      "<class 'pandas.core.frame.DataFrame'>\n",
      "RangeIndex: 6000 entries, 0 to 5999\n",
      "Data columns (total 3 columns):\n",
      " #   Column          Non-Null Count  Dtype \n",
      "---  ------          --------------  ----- \n",
      " 0   Complaint ID    6000 non-null   int64 \n",
      " 1   Complaint_Text  6000 non-null   object\n",
      " 2   Category        6000 non-null   object\n",
      "dtypes: int64(1), object(2)\n",
      "memory usage: 140.8+ KB\n"
     ]
    }
   ],
   "source": [
    "hdfc_data.info()"
   ]
  },
  {
   "cell_type": "code",
   "execution_count": 19,
   "id": "359097c0",
   "metadata": {},
   "outputs": [
    {
     "data": {
      "text/plain": [
       "Complaint ID      0\n",
       "Complaint_Text    0\n",
       "Category          0\n",
       "dtype: int64"
      ]
     },
     "execution_count": 19,
     "metadata": {},
     "output_type": "execute_result"
    }
   ],
   "source": [
    "hdfc_data.isna().sum()"
   ]
  },
  {
   "cell_type": "code",
   "execution_count": 20,
   "id": "cd40267d",
   "metadata": {},
   "outputs": [
    {
     "data": {
      "text/plain": [
       "Category\n",
       "Net Banking Issue         640\n",
       "Branch Service Issue      629\n",
       "Notification Issue        628\n",
       "Loan Issue                610\n",
       "Cheque Issue              607\n",
       "Account Issue             607\n",
       "Credit Card Issue         598\n",
       "Customer Service Issue    568\n",
       "Fraudulent Transaction    558\n",
       "ATM Issue                 555\n",
       "Name: count, dtype: int64"
      ]
     },
     "execution_count": 20,
     "metadata": {},
     "output_type": "execute_result"
    }
   ],
   "source": [
    "hdfc_data['Category'].value_counts(dropna=False)"
   ]
  },
  {
   "cell_type": "code",
   "execution_count": 24,
   "id": "2c1b6cf1",
   "metadata": {},
   "outputs": [
    {
     "data": {
      "text/plain": [
       "np.int64(5600)"
      ]
     },
     "execution_count": 24,
     "metadata": {},
     "output_type": "execute_result"
    }
   ],
   "source": [
    "hdfc_data[[\"Complaint_Text\", \"Category\"]].duplicated().sum()"
   ]
  }
 ],
 "metadata": {
  "kernelspec": {
   "display_name": "Python 3",
   "language": "python",
   "name": "python3"
  },
  "language_info": {
   "codemirror_mode": {
    "name": "ipython",
    "version": 3
   },
   "file_extension": ".py",
   "mimetype": "text/x-python",
   "name": "python",
   "nbconvert_exporter": "python",
   "pygments_lexer": "ipython3",
   "version": "3.12.3"
  }
 },
 "nbformat": 4,
 "nbformat_minor": 5
}
