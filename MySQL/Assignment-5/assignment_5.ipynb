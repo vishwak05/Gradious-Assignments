{
 "cells": [
  {
   "cell_type": "code",
   "execution_count": 1,
   "id": "ba1d3268",
   "metadata": {},
   "outputs": [],
   "source": [
    "# Using Python MySQL connector to perform CRUD operations\n",
    "from mysql import connector\n",
    "import pandas as pd"
   ]
  },
  {
   "cell_type": "code",
   "execution_count": 2,
   "id": "7ce25565",
   "metadata": {},
   "outputs": [],
   "source": [
    "# Creating database object\n",
    "database = connector.connect(\n",
    "    host = 'localhost',\n",
    "    user = 'root',\n",
    "    password = 'vishwak@05',\n",
    "    database = 'customer_db'\n",
    ")"
   ]
  },
  {
   "cell_type": "code",
   "execution_count": 3,
   "id": "9e170093",
   "metadata": {},
   "outputs": [],
   "source": [
    "# Creating cursor object\n",
    "cursorObj = database.cursor()"
   ]
  },
  {
   "cell_type": "code",
   "execution_count": 4,
   "id": "b391a650",
   "metadata": {},
   "outputs": [],
   "source": [
    "# Method to create Table books\n",
    "def create_table():\n",
    "    create_query = \"\"\"\n",
    "        CREATE TABLE IF NOT EXISTS books (\n",
    "            id INT PRIMARY KEY AUTO_INCREMENT,\n",
    "            title VARCHAR(50) NOT NULL,\n",
    "            author VARCHAR(50) NOT NULL,\n",
    "            genre VARCHAR(50) NOT NULL,\n",
    "            publication_year YEAR NOT NULL,\n",
    "            language VARCHAR(20),\n",
    "            price DECIMAL(10,2),\n",
    "            isbn VARCHAR(20) NOT NULL,\n",
    "            publisher VARCHAR(50),\n",
    "            rating FLOAT\n",
    "        )\n",
    "    \"\"\"\n",
    "    cursorObj.execute(create_query)\n",
    "    database.commit()"
   ]
  },
  {
   "cell_type": "code",
   "execution_count": 5,
   "id": "171e3477",
   "metadata": {},
   "outputs": [],
   "source": [
    "# Method to insert data into books\n",
    "def insert_data(book):\n",
    "    insert_query = \"\"\"\n",
    "        INSERT INTO books (title, author, genre, publication_year, language, price, isbn, publisher, rating) VALUES\n",
    "        (%s, %s, %s, %s, %s, %s, %s, %s, %s);\n",
    "    \"\"\"\n",
    "    data_tuple = (\n",
    "        book['title'], book['author'], book['genre'], book['publication_year'], \n",
    "        book['language'], book['price'], book['isbn'], book['publisher'], book['rating']\n",
    "    )\n",
    "    cursorObj.execute(insert_query, data_tuple)\n",
    "    database.commit()"
   ]
  },
  {
   "cell_type": "code",
   "execution_count": 6,
   "id": "4ef33fc3",
   "metadata": {},
   "outputs": [],
   "source": [
    "# Method to read data in books\n",
    "def read_data():\n",
    "    read_query = \"SELECT * FROM books;\"\n",
    "    cursorObj.execute(read_query)\n",
    "    result = cursorObj.fetchall()\n",
    "    return result"
   ]
  },
  {
   "cell_type": "code",
   "execution_count": 7,
   "id": "03e7549e",
   "metadata": {},
   "outputs": [],
   "source": [
    "# Method to update data in books\n",
    "def update_data(book_id, book):\n",
    "    fields = ', '.join(f\"{k}=%s\" for k in book.keys())\n",
    "    values = list(book.values())\n",
    "    values.append(book_id)\n",
    "    update_query = f\"UPDATE books SET {fields} WHERE id = %s;\"\n",
    "    cursorObj.execute(update_query, values)\n",
    "    database.commit()"
   ]
  },
  {
   "cell_type": "code",
   "execution_count": 8,
   "id": "57040e8f",
   "metadata": {},
   "outputs": [],
   "source": [
    "# Method to delete data in books\n",
    "def delete_data(book_id):\n",
    "    delete_query = \"DELETE FROM books WHERE id = %s\"\n",
    "    cursorObj.execute(delete_query, (book_id,))\n",
    "    database.commit()"
   ]
  },
  {
   "cell_type": "code",
   "execution_count": 9,
   "id": "6d707de9",
   "metadata": {},
   "outputs": [
    {
     "name": "stdout",
     "output_type": "stream",
     "text": [
      "Creating the Table books in Database:\n",
      "Successfully created Table books\n"
     ]
    }
   ],
   "source": [
    "print(\"Creating the Table books in Database:\")\n",
    "create_table()\n",
    "print(\"Successfully created Table books\")"
   ]
  },
  {
   "cell_type": "code",
   "execution_count": 10,
   "id": "7adf8517",
   "metadata": {},
   "outputs": [
    {
     "name": "stdout",
     "output_type": "stream",
     "text": [
      "Inserting Data into Table books:\n",
      "Inserted all Data into Table books successfully\n"
     ]
    }
   ],
   "source": [
    "print(\"Inserting Data into Table books:\")\n",
    "book1 = {\n",
    "    'title':'The Great Gatsby',\n",
    "    'author': 'F. Scott Fitzgerald',\n",
    "    'genre': 'Classic',\n",
    "    'publication_year': 1925,\n",
    "    'language': 'English',\n",
    "    'price': 399.99,\n",
    "    'isbn': '9780743273565',\n",
    "    'publisher': 'Scribner',\n",
    "    'rating': 4.5\n",
    "}\n",
    "insert_data(book=book1)\n",
    "\n",
    "book2 = {\n",
    "    'title':'To Kill a Mockingbird',\n",
    "    'author': 'Harper Lee',\n",
    "    'genre': 'Classic',\n",
    "    'publication_year': 1960,\n",
    "    'language': 'English',\n",
    "    'price': 299.50,\n",
    "    'isbn': '9780061120084',\n",
    "    'publisher': 'J.B. Lippincott & Co.',\n",
    "    'rating': 4.8\n",
    "}\n",
    "insert_data(book=book2)\n",
    "\n",
    "book3 = {\n",
    "    'title':'One Hundred Years of Solitude',\n",
    "    'author': 'Gabriel Garcia Marquez',\n",
    "    'genre': 'Magical Realism',\n",
    "    'publication_year': 1967,\n",
    "    'language': 'Spanish',\n",
    "    'price': 499.00,\n",
    "    'isbn': '9780060883287',\n",
    "    'publisher': 'Harper & Row',\n",
    "    'rating': 4.7\n",
    "}\n",
    "insert_data(book=book3)\n",
    "\n",
    "book4 = {\n",
    "    'title':'Sapiens',\n",
    "    'author': 'Yuval Noah Harari',\n",
    "    'genre': 'Non-fiction',\n",
    "    'publication_year': 2011,\n",
    "    'language': 'English',\n",
    "    'price': 550.00,\n",
    "    'isbn': '9780099590088',\n",
    "    'publisher': 'Harvill Secker',\n",
    "    'rating': 4.6\n",
    "}\n",
    "insert_data(book=book4)\n",
    "print(\"Inserted all Data into Table books successfully\")"
   ]
  },
  {
   "cell_type": "code",
   "execution_count": 11,
   "id": "546290db",
   "metadata": {},
   "outputs": [
    {
     "name": "stdout",
     "output_type": "stream",
     "text": [
      "Reading the Data in Table books:\n"
     ]
    },
    {
     "data": {
      "text/html": [
       "<div>\n",
       "<style scoped>\n",
       "    .dataframe tbody tr th:only-of-type {\n",
       "        vertical-align: middle;\n",
       "    }\n",
       "\n",
       "    .dataframe tbody tr th {\n",
       "        vertical-align: top;\n",
       "    }\n",
       "\n",
       "    .dataframe thead th {\n",
       "        text-align: right;\n",
       "    }\n",
       "</style>\n",
       "<table border=\"1\" class=\"dataframe\">\n",
       "  <thead>\n",
       "    <tr style=\"text-align: right;\">\n",
       "      <th></th>\n",
       "      <th>id</th>\n",
       "      <th>title</th>\n",
       "      <th>author</th>\n",
       "      <th>genre</th>\n",
       "      <th>publication_year</th>\n",
       "      <th>language</th>\n",
       "      <th>price</th>\n",
       "      <th>isbn</th>\n",
       "      <th>publisher</th>\n",
       "      <th>rating</th>\n",
       "    </tr>\n",
       "  </thead>\n",
       "  <tbody>\n",
       "    <tr>\n",
       "      <th>0</th>\n",
       "      <td>1</td>\n",
       "      <td>The Great Gatsby</td>\n",
       "      <td>F. Scott Fitzgerald</td>\n",
       "      <td>Classic</td>\n",
       "      <td>1925</td>\n",
       "      <td>English</td>\n",
       "      <td>399.99</td>\n",
       "      <td>9780743273565</td>\n",
       "      <td>Scribner</td>\n",
       "      <td>4.5</td>\n",
       "    </tr>\n",
       "    <tr>\n",
       "      <th>1</th>\n",
       "      <td>2</td>\n",
       "      <td>To Kill a Mockingbird</td>\n",
       "      <td>Harper Lee</td>\n",
       "      <td>Classic</td>\n",
       "      <td>1960</td>\n",
       "      <td>English</td>\n",
       "      <td>299.50</td>\n",
       "      <td>9780061120084</td>\n",
       "      <td>J.B. Lippincott &amp; Co.</td>\n",
       "      <td>4.8</td>\n",
       "    </tr>\n",
       "    <tr>\n",
       "      <th>2</th>\n",
       "      <td>3</td>\n",
       "      <td>One Hundred Years of Solitude</td>\n",
       "      <td>Gabriel Garcia Marquez</td>\n",
       "      <td>Magical Realism</td>\n",
       "      <td>1967</td>\n",
       "      <td>Spanish</td>\n",
       "      <td>499.00</td>\n",
       "      <td>9780060883287</td>\n",
       "      <td>Harper &amp; Row</td>\n",
       "      <td>4.7</td>\n",
       "    </tr>\n",
       "    <tr>\n",
       "      <th>3</th>\n",
       "      <td>4</td>\n",
       "      <td>Sapiens</td>\n",
       "      <td>Yuval Noah Harari</td>\n",
       "      <td>Non-fiction</td>\n",
       "      <td>2011</td>\n",
       "      <td>English</td>\n",
       "      <td>550.00</td>\n",
       "      <td>9780099590088</td>\n",
       "      <td>Harvill Secker</td>\n",
       "      <td>4.6</td>\n",
       "    </tr>\n",
       "  </tbody>\n",
       "</table>\n",
       "</div>"
      ],
      "text/plain": [
       "   id                          title                  author            genre  \\\n",
       "0   1               The Great Gatsby     F. Scott Fitzgerald          Classic   \n",
       "1   2          To Kill a Mockingbird              Harper Lee          Classic   \n",
       "2   3  One Hundred Years of Solitude  Gabriel Garcia Marquez  Magical Realism   \n",
       "3   4                        Sapiens       Yuval Noah Harari      Non-fiction   \n",
       "\n",
       "   publication_year language   price           isbn              publisher  \\\n",
       "0              1925  English  399.99  9780743273565               Scribner   \n",
       "1              1960  English  299.50  9780061120084  J.B. Lippincott & Co.   \n",
       "2              1967  Spanish  499.00  9780060883287           Harper & Row   \n",
       "3              2011  English  550.00  9780099590088         Harvill Secker   \n",
       "\n",
       "   rating  \n",
       "0     4.5  \n",
       "1     4.8  \n",
       "2     4.7  \n",
       "3     4.6  "
      ]
     },
     "execution_count": 11,
     "metadata": {},
     "output_type": "execute_result"
    }
   ],
   "source": [
    "print(\"Reading the Data in Table books:\")\n",
    "keys = ['id', 'title', 'author', 'genre', 'publication_year', 'language', 'price', 'isbn', 'publisher', 'rating']\n",
    "data = pd.DataFrame(read_data(), columns=keys)\n",
    "\n",
    "data"
   ]
  },
  {
   "cell_type": "code",
   "execution_count": 12,
   "id": "8c9570f4",
   "metadata": {},
   "outputs": [
    {
     "name": "stdout",
     "output_type": "stream",
     "text": [
      "Updating Data in Table books:\n",
      "Data in book_id:2 updated successfully\n"
     ]
    }
   ],
   "source": [
    "print(\"Updating Data in Table books:\")\n",
    "update_book2 = {\n",
    "    'price': 349.50,\n",
    "    'rating': 4.7\n",
    "}\n",
    "update_data(book_id=2, book=update_book2)\n",
    "print(\"Data in book_id:2 updated successfully\")"
   ]
  },
  {
   "cell_type": "code",
   "execution_count": 13,
   "id": "84202391",
   "metadata": {},
   "outputs": [
    {
     "name": "stdout",
     "output_type": "stream",
     "text": [
      "Deleting Data in Table books:\n",
      "Deleted Data of book_id:4 successfully\n",
      "\n"
     ]
    }
   ],
   "source": [
    "print(\"Deleting Data in Table books:\")\n",
    "delete_data(book_id=4)\n",
    "print(\"Deleted Data of book_id:4 successfully\\n\")"
   ]
  },
  {
   "cell_type": "code",
   "execution_count": 14,
   "id": "298c6b16",
   "metadata": {},
   "outputs": [
    {
     "name": "stdout",
     "output_type": "stream",
     "text": [
      "Reading the Data in Table books:\n"
     ]
    },
    {
     "data": {
      "text/html": [
       "<div>\n",
       "<style scoped>\n",
       "    .dataframe tbody tr th:only-of-type {\n",
       "        vertical-align: middle;\n",
       "    }\n",
       "\n",
       "    .dataframe tbody tr th {\n",
       "        vertical-align: top;\n",
       "    }\n",
       "\n",
       "    .dataframe thead th {\n",
       "        text-align: right;\n",
       "    }\n",
       "</style>\n",
       "<table border=\"1\" class=\"dataframe\">\n",
       "  <thead>\n",
       "    <tr style=\"text-align: right;\">\n",
       "      <th></th>\n",
       "      <th>id</th>\n",
       "      <th>title</th>\n",
       "      <th>author</th>\n",
       "      <th>genre</th>\n",
       "      <th>publication_year</th>\n",
       "      <th>language</th>\n",
       "      <th>price</th>\n",
       "      <th>isbn</th>\n",
       "      <th>publisher</th>\n",
       "      <th>rating</th>\n",
       "    </tr>\n",
       "  </thead>\n",
       "  <tbody>\n",
       "    <tr>\n",
       "      <th>0</th>\n",
       "      <td>1</td>\n",
       "      <td>The Great Gatsby</td>\n",
       "      <td>F. Scott Fitzgerald</td>\n",
       "      <td>Classic</td>\n",
       "      <td>1925</td>\n",
       "      <td>English</td>\n",
       "      <td>399.99</td>\n",
       "      <td>9780743273565</td>\n",
       "      <td>Scribner</td>\n",
       "      <td>4.5</td>\n",
       "    </tr>\n",
       "    <tr>\n",
       "      <th>1</th>\n",
       "      <td>2</td>\n",
       "      <td>To Kill a Mockingbird</td>\n",
       "      <td>Harper Lee</td>\n",
       "      <td>Classic</td>\n",
       "      <td>1960</td>\n",
       "      <td>English</td>\n",
       "      <td>349.50</td>\n",
       "      <td>9780061120084</td>\n",
       "      <td>J.B. Lippincott &amp; Co.</td>\n",
       "      <td>4.7</td>\n",
       "    </tr>\n",
       "    <tr>\n",
       "      <th>2</th>\n",
       "      <td>3</td>\n",
       "      <td>One Hundred Years of Solitude</td>\n",
       "      <td>Gabriel Garcia Marquez</td>\n",
       "      <td>Magical Realism</td>\n",
       "      <td>1967</td>\n",
       "      <td>Spanish</td>\n",
       "      <td>499.00</td>\n",
       "      <td>9780060883287</td>\n",
       "      <td>Harper &amp; Row</td>\n",
       "      <td>4.7</td>\n",
       "    </tr>\n",
       "  </tbody>\n",
       "</table>\n",
       "</div>"
      ],
      "text/plain": [
       "   id                          title                  author            genre  \\\n",
       "0   1               The Great Gatsby     F. Scott Fitzgerald          Classic   \n",
       "1   2          To Kill a Mockingbird              Harper Lee          Classic   \n",
       "2   3  One Hundred Years of Solitude  Gabriel Garcia Marquez  Magical Realism   \n",
       "\n",
       "   publication_year language   price           isbn              publisher  \\\n",
       "0              1925  English  399.99  9780743273565               Scribner   \n",
       "1              1960  English  349.50  9780061120084  J.B. Lippincott & Co.   \n",
       "2              1967  Spanish  499.00  9780060883287           Harper & Row   \n",
       "\n",
       "   rating  \n",
       "0     4.5  \n",
       "1     4.7  \n",
       "2     4.7  "
      ]
     },
     "execution_count": 14,
     "metadata": {},
     "output_type": "execute_result"
    }
   ],
   "source": [
    "print(\"Reading the Data in Table books:\")\n",
    "keys = ['id', 'title', 'author', 'genre', 'publication_year', 'language', 'price', 'isbn', 'publisher', 'rating']\n",
    "data = pd.DataFrame(read_data(), columns=keys)\n",
    "\n",
    "data"
   ]
  },
  {
   "cell_type": "code",
   "execution_count": 15,
   "id": "a199e52c",
   "metadata": {},
   "outputs": [],
   "source": [
    "cursorObj.close()\n",
    "database.close()"
   ]
  }
 ],
 "metadata": {
  "kernelspec": {
   "display_name": "Python 3",
   "language": "python",
   "name": "python3"
  },
  "language_info": {
   "codemirror_mode": {
    "name": "ipython",
    "version": 3
   },
   "file_extension": ".py",
   "mimetype": "text/x-python",
   "name": "python",
   "nbconvert_exporter": "python",
   "pygments_lexer": "ipython3",
   "version": "3.12.3"
  }
 },
 "nbformat": 4,
 "nbformat_minor": 5
}
