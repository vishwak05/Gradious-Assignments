{
 "cells": [
  {
   "cell_type": "markdown",
   "id": "f5b8da65",
   "metadata": {},
   "source": [
    "# Linear Regression"
   ]
  },
  {
   "cell_type": "code",
   "execution_count": 18,
   "id": "0e6411e6",
   "metadata": {},
   "outputs": [],
   "source": [
    "import numpy as np\n",
    "import pandas as pd"
   ]
  },
  {
   "cell_type": "code",
   "execution_count": 19,
   "id": "cde6a7be",
   "metadata": {},
   "outputs": [
    {
     "data": {
      "text/html": [
       "<div>\n",
       "<style scoped>\n",
       "    .dataframe tbody tr th:only-of-type {\n",
       "        vertical-align: middle;\n",
       "    }\n",
       "\n",
       "    .dataframe tbody tr th {\n",
       "        vertical-align: top;\n",
       "    }\n",
       "\n",
       "    .dataframe thead th {\n",
       "        text-align: right;\n",
       "    }\n",
       "</style>\n",
       "<table border=\"1\" class=\"dataframe\">\n",
       "  <thead>\n",
       "    <tr style=\"text-align: right;\">\n",
       "      <th></th>\n",
       "      <th>Income</th>\n",
       "      <th>Population</th>\n",
       "      <th>Rice_Consumption</th>\n",
       "    </tr>\n",
       "  </thead>\n",
       "  <tbody>\n",
       "    <tr>\n",
       "      <th>0</th>\n",
       "      <td>30</td>\n",
       "      <td>110</td>\n",
       "      <td>85</td>\n",
       "    </tr>\n",
       "    <tr>\n",
       "      <th>1</th>\n",
       "      <td>40</td>\n",
       "      <td>140</td>\n",
       "      <td>95</td>\n",
       "    </tr>\n",
       "    <tr>\n",
       "      <th>2</th>\n",
       "      <td>50</td>\n",
       "      <td>210</td>\n",
       "      <td>130</td>\n",
       "    </tr>\n",
       "    <tr>\n",
       "      <th>3</th>\n",
       "      <td>60</td>\n",
       "      <td>260</td>\n",
       "      <td>155</td>\n",
       "    </tr>\n",
       "    <tr>\n",
       "      <th>4</th>\n",
       "      <td>70</td>\n",
       "      <td>320</td>\n",
       "      <td>180</td>\n",
       "    </tr>\n",
       "  </tbody>\n",
       "</table>\n",
       "</div>"
      ],
      "text/plain": [
       "   Income  Population  Rice_Consumption\n",
       "0      30         110                85\n",
       "1      40         140                95\n",
       "2      50         210               130\n",
       "3      60         260               155\n",
       "4      70         320               180"
      ]
     },
     "execution_count": 19,
     "metadata": {},
     "output_type": "execute_result"
    }
   ],
   "source": [
    "# The error is due to perfect collinearity between variables (Income and Population are perfectly correlated in the sample).\n",
    "# Let's create a small dataset where the independent variables are not perfectly collinear.\n",
    "data = {\n",
    "    'Income': [30, 40, 50, 60, 70],\n",
    "    'Population': [110, 140, 210, 260, 320],\n",
    "    'Rice_Consumption': [85, 95, 130, 155, 180]\n",
    "}\n",
    "df = pd.DataFrame(data)\n",
    "df"
   ]
  },
  {
   "cell_type": "code",
   "execution_count": 20,
   "id": "17b79f45",
   "metadata": {},
   "outputs": [],
   "source": [
    "# Prepare the design matrix X (add intercept)\n",
    "X = np.column_stack((np.ones(len(df)), df['Income'], df['Population']))\n",
    "y = df['Rice_Consumption'].values.reshape(-1, 1)"
   ]
  },
  {
   "cell_type": "code",
   "execution_count": 26,
   "id": "a4fd8654",
   "metadata": {},
   "outputs": [
    {
     "data": {
      "text/plain": [
       "(array([[5.000e+00, 2.500e+02, 1.040e+03],\n",
       "        [2.500e+02, 1.350e+04, 5.740e+04],\n",
       "        [1.040e+03, 5.740e+04, 2.458e+05]]),\n",
       " array([[ 1.47125e+01, -1.09625e+00,  1.93750e-01],\n",
       "        [-1.09625e+00,  9.21250e-02, -1.68750e-02],\n",
       "        [ 1.93750e-01, -1.68750e-02,  3.12500e-03]]),\n",
       " array([[   645.],\n",
       "        [ 34750.],\n",
       "        [147850.]]),\n",
       " array([[40.8125 ],\n",
       "        [-0.70625],\n",
       "        [ 0.59375]]))"
      ]
     },
     "execution_count": 26,
     "metadata": {},
     "output_type": "execute_result"
    }
   ],
   "source": [
    "# Least squares solution: beta = (X^T X)^-1 X^T y\n",
    "XtX = X.T @ X\n",
    "XtX_inv = np.linalg.inv(XtX)\n",
    "XtY = X.T @ y\n",
    "beta = XtX_inv @ XtY\n",
    "\n",
    "XtX,XtX_inv,XtY,beta"
   ]
  },
  {
   "cell_type": "code",
   "execution_count": null,
   "id": "fe7bc542",
   "metadata": {},
   "outputs": [
    {
     "data": {
      "text/plain": [
       "(array([40.8125 , -0.70625,  0.59375]),\n",
       " array([ 84.9375,  95.6875, 130.1875, 152.8125, 181.375 ]),\n",
       " array([ 0.0625, -0.6875, -0.1875,  2.1875, -1.375 ]),\n",
       " np.float64(7.187499999999984))"
      ]
     },
     "execution_count": 22,
     "metadata": {},
     "output_type": "execute_result"
    }
   ],
   "source": [
    "# Predicted values\n",
    "y_pred = X @ beta\n",
    "\n",
    "# Residuals\n",
    "residuals = y - y_pred\n",
    "\n",
    "# Sum of squared residuals\n",
    "SSR = np.sum(residuals ** 2)\n",
    "\n",
    "# Show results\n",
    "beta.flatten(), y_pred.flatten(), residuals.flatten(), SSR"
   ]
  },
  {
   "cell_type": "markdown",
   "id": "eb03aefe",
   "metadata": {},
   "source": [
    "# Logistic Regression"
   ]
  },
  {
   "cell_type": "code",
   "execution_count": null,
   "id": "2cd7b96e",
   "metadata": {},
   "outputs": [],
   "source": []
  }
 ],
 "metadata": {
  "kernelspec": {
   "display_name": "Python 3",
   "language": "python",
   "name": "python3"
  },
  "language_info": {
   "codemirror_mode": {
    "name": "ipython",
    "version": 3
   },
   "file_extension": ".py",
   "mimetype": "text/x-python",
   "name": "python",
   "nbconvert_exporter": "python",
   "pygments_lexer": "ipython3",
   "version": "3.12.3"
  }
 },
 "nbformat": 4,
 "nbformat_minor": 5
}
