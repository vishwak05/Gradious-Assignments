{
 "cells": [
  {
   "cell_type": "code",
   "execution_count": 12,
   "id": "a32bcfd4",
   "metadata": {},
   "outputs": [],
   "source": [
    "import pandas as pd\n",
    "import matplotlib.pyplot as plt\n",
    "import seaborn as sns"
   ]
  },
  {
   "cell_type": "code",
   "execution_count": 2,
   "id": "eceacddc",
   "metadata": {},
   "outputs": [
    {
     "data": {
      "text/html": [
       "<div>\n",
       "<style scoped>\n",
       "    .dataframe tbody tr th:only-of-type {\n",
       "        vertical-align: middle;\n",
       "    }\n",
       "\n",
       "    .dataframe tbody tr th {\n",
       "        vertical-align: top;\n",
       "    }\n",
       "\n",
       "    .dataframe thead th {\n",
       "        text-align: right;\n",
       "    }\n",
       "</style>\n",
       "<table border=\"1\" class=\"dataframe\">\n",
       "  <thead>\n",
       "    <tr style=\"text-align: right;\">\n",
       "      <th></th>\n",
       "      <th>age</th>\n",
       "      <th>sex</th>\n",
       "      <th>bmi</th>\n",
       "      <th>children</th>\n",
       "      <th>smoker</th>\n",
       "      <th>region</th>\n",
       "      <th>expenses</th>\n",
       "    </tr>\n",
       "  </thead>\n",
       "  <tbody>\n",
       "    <tr>\n",
       "      <th>0</th>\n",
       "      <td>19</td>\n",
       "      <td>female</td>\n",
       "      <td>27.9</td>\n",
       "      <td>0</td>\n",
       "      <td>yes</td>\n",
       "      <td>southwest</td>\n",
       "      <td>16884.92</td>\n",
       "    </tr>\n",
       "    <tr>\n",
       "      <th>1</th>\n",
       "      <td>18</td>\n",
       "      <td>male</td>\n",
       "      <td>33.8</td>\n",
       "      <td>1</td>\n",
       "      <td>no</td>\n",
       "      <td>southeast</td>\n",
       "      <td>1725.55</td>\n",
       "    </tr>\n",
       "    <tr>\n",
       "      <th>2</th>\n",
       "      <td>28</td>\n",
       "      <td>male</td>\n",
       "      <td>33.0</td>\n",
       "      <td>3</td>\n",
       "      <td>no</td>\n",
       "      <td>southeast</td>\n",
       "      <td>4449.46</td>\n",
       "    </tr>\n",
       "    <tr>\n",
       "      <th>3</th>\n",
       "      <td>33</td>\n",
       "      <td>male</td>\n",
       "      <td>22.7</td>\n",
       "      <td>0</td>\n",
       "      <td>no</td>\n",
       "      <td>northwest</td>\n",
       "      <td>21984.47</td>\n",
       "    </tr>\n",
       "    <tr>\n",
       "      <th>4</th>\n",
       "      <td>32</td>\n",
       "      <td>male</td>\n",
       "      <td>28.9</td>\n",
       "      <td>0</td>\n",
       "      <td>no</td>\n",
       "      <td>northwest</td>\n",
       "      <td>3866.86</td>\n",
       "    </tr>\n",
       "    <tr>\n",
       "      <th>...</th>\n",
       "      <td>...</td>\n",
       "      <td>...</td>\n",
       "      <td>...</td>\n",
       "      <td>...</td>\n",
       "      <td>...</td>\n",
       "      <td>...</td>\n",
       "      <td>...</td>\n",
       "    </tr>\n",
       "    <tr>\n",
       "      <th>1333</th>\n",
       "      <td>50</td>\n",
       "      <td>male</td>\n",
       "      <td>31.0</td>\n",
       "      <td>3</td>\n",
       "      <td>no</td>\n",
       "      <td>northwest</td>\n",
       "      <td>10600.55</td>\n",
       "    </tr>\n",
       "    <tr>\n",
       "      <th>1334</th>\n",
       "      <td>18</td>\n",
       "      <td>female</td>\n",
       "      <td>31.9</td>\n",
       "      <td>0</td>\n",
       "      <td>no</td>\n",
       "      <td>northeast</td>\n",
       "      <td>2205.98</td>\n",
       "    </tr>\n",
       "    <tr>\n",
       "      <th>1335</th>\n",
       "      <td>18</td>\n",
       "      <td>female</td>\n",
       "      <td>36.9</td>\n",
       "      <td>0</td>\n",
       "      <td>no</td>\n",
       "      <td>southeast</td>\n",
       "      <td>1629.83</td>\n",
       "    </tr>\n",
       "    <tr>\n",
       "      <th>1336</th>\n",
       "      <td>21</td>\n",
       "      <td>female</td>\n",
       "      <td>25.8</td>\n",
       "      <td>0</td>\n",
       "      <td>no</td>\n",
       "      <td>southwest</td>\n",
       "      <td>2007.95</td>\n",
       "    </tr>\n",
       "    <tr>\n",
       "      <th>1337</th>\n",
       "      <td>61</td>\n",
       "      <td>female</td>\n",
       "      <td>29.1</td>\n",
       "      <td>0</td>\n",
       "      <td>yes</td>\n",
       "      <td>northwest</td>\n",
       "      <td>29141.36</td>\n",
       "    </tr>\n",
       "  </tbody>\n",
       "</table>\n",
       "<p>1338 rows × 7 columns</p>\n",
       "</div>"
      ],
      "text/plain": [
       "      age     sex   bmi  children smoker     region  expenses\n",
       "0      19  female  27.9         0    yes  southwest  16884.92\n",
       "1      18    male  33.8         1     no  southeast   1725.55\n",
       "2      28    male  33.0         3     no  southeast   4449.46\n",
       "3      33    male  22.7         0     no  northwest  21984.47\n",
       "4      32    male  28.9         0     no  northwest   3866.86\n",
       "...   ...     ...   ...       ...    ...        ...       ...\n",
       "1333   50    male  31.0         3     no  northwest  10600.55\n",
       "1334   18  female  31.9         0     no  northeast   2205.98\n",
       "1335   18  female  36.9         0     no  southeast   1629.83\n",
       "1336   21  female  25.8         0     no  southwest   2007.95\n",
       "1337   61  female  29.1         0    yes  northwest  29141.36\n",
       "\n",
       "[1338 rows x 7 columns]"
      ]
     },
     "execution_count": 2,
     "metadata": {},
     "output_type": "execute_result"
    }
   ],
   "source": [
    "data = pd.read_csv('insurance.csv')\n",
    "data"
   ]
  },
  {
   "cell_type": "code",
   "execution_count": 3,
   "id": "93461226",
   "metadata": {},
   "outputs": [
    {
     "name": "stdout",
     "output_type": "stream",
     "text": [
      "<class 'pandas.core.frame.DataFrame'>\n",
      "RangeIndex: 1338 entries, 0 to 1337\n",
      "Data columns (total 7 columns):\n",
      " #   Column    Non-Null Count  Dtype  \n",
      "---  ------    --------------  -----  \n",
      " 0   age       1338 non-null   int64  \n",
      " 1   sex       1338 non-null   object \n",
      " 2   bmi       1338 non-null   float64\n",
      " 3   children  1338 non-null   int64  \n",
      " 4   smoker    1338 non-null   object \n",
      " 5   region    1338 non-null   object \n",
      " 6   expenses  1338 non-null   float64\n",
      "dtypes: float64(2), int64(2), object(3)\n",
      "memory usage: 73.3+ KB\n"
     ]
    }
   ],
   "source": [
    "data.info()"
   ]
  },
  {
   "cell_type": "code",
   "execution_count": 4,
   "id": "aac3e440",
   "metadata": {},
   "outputs": [
    {
     "data": {
      "text/html": [
       "<div>\n",
       "<style scoped>\n",
       "    .dataframe tbody tr th:only-of-type {\n",
       "        vertical-align: middle;\n",
       "    }\n",
       "\n",
       "    .dataframe tbody tr th {\n",
       "        vertical-align: top;\n",
       "    }\n",
       "\n",
       "    .dataframe thead th {\n",
       "        text-align: right;\n",
       "    }\n",
       "</style>\n",
       "<table border=\"1\" class=\"dataframe\">\n",
       "  <thead>\n",
       "    <tr style=\"text-align: right;\">\n",
       "      <th></th>\n",
       "      <th>age</th>\n",
       "      <th>bmi</th>\n",
       "      <th>children</th>\n",
       "      <th>expenses</th>\n",
       "    </tr>\n",
       "  </thead>\n",
       "  <tbody>\n",
       "    <tr>\n",
       "      <th>count</th>\n",
       "      <td>1338.000000</td>\n",
       "      <td>1338.000000</td>\n",
       "      <td>1338.000000</td>\n",
       "      <td>1338.000000</td>\n",
       "    </tr>\n",
       "    <tr>\n",
       "      <th>mean</th>\n",
       "      <td>39.207025</td>\n",
       "      <td>30.665471</td>\n",
       "      <td>1.094918</td>\n",
       "      <td>13270.422414</td>\n",
       "    </tr>\n",
       "    <tr>\n",
       "      <th>std</th>\n",
       "      <td>14.049960</td>\n",
       "      <td>6.098382</td>\n",
       "      <td>1.205493</td>\n",
       "      <td>12110.011240</td>\n",
       "    </tr>\n",
       "    <tr>\n",
       "      <th>min</th>\n",
       "      <td>18.000000</td>\n",
       "      <td>16.000000</td>\n",
       "      <td>0.000000</td>\n",
       "      <td>1121.870000</td>\n",
       "    </tr>\n",
       "    <tr>\n",
       "      <th>25%</th>\n",
       "      <td>27.000000</td>\n",
       "      <td>26.300000</td>\n",
       "      <td>0.000000</td>\n",
       "      <td>4740.287500</td>\n",
       "    </tr>\n",
       "    <tr>\n",
       "      <th>50%</th>\n",
       "      <td>39.000000</td>\n",
       "      <td>30.400000</td>\n",
       "      <td>1.000000</td>\n",
       "      <td>9382.030000</td>\n",
       "    </tr>\n",
       "    <tr>\n",
       "      <th>75%</th>\n",
       "      <td>51.000000</td>\n",
       "      <td>34.700000</td>\n",
       "      <td>2.000000</td>\n",
       "      <td>16639.915000</td>\n",
       "    </tr>\n",
       "    <tr>\n",
       "      <th>max</th>\n",
       "      <td>64.000000</td>\n",
       "      <td>53.100000</td>\n",
       "      <td>5.000000</td>\n",
       "      <td>63770.430000</td>\n",
       "    </tr>\n",
       "  </tbody>\n",
       "</table>\n",
       "</div>"
      ],
      "text/plain": [
       "               age          bmi     children      expenses\n",
       "count  1338.000000  1338.000000  1338.000000   1338.000000\n",
       "mean     39.207025    30.665471     1.094918  13270.422414\n",
       "std      14.049960     6.098382     1.205493  12110.011240\n",
       "min      18.000000    16.000000     0.000000   1121.870000\n",
       "25%      27.000000    26.300000     0.000000   4740.287500\n",
       "50%      39.000000    30.400000     1.000000   9382.030000\n",
       "75%      51.000000    34.700000     2.000000  16639.915000\n",
       "max      64.000000    53.100000     5.000000  63770.430000"
      ]
     },
     "execution_count": 4,
     "metadata": {},
     "output_type": "execute_result"
    }
   ],
   "source": [
    "data.describe()"
   ]
  },
  {
   "cell_type": "code",
   "execution_count": 5,
   "id": "a4ed9c32",
   "metadata": {},
   "outputs": [
    {
     "data": {
      "text/plain": [
       "age         0\n",
       "sex         0\n",
       "bmi         0\n",
       "children    0\n",
       "smoker      0\n",
       "region      0\n",
       "expenses    0\n",
       "dtype: int64"
      ]
     },
     "execution_count": 5,
     "metadata": {},
     "output_type": "execute_result"
    }
   ],
   "source": [
    "data.isna().sum()"
   ]
  },
  {
   "cell_type": "code",
   "execution_count": 6,
   "id": "04c06543",
   "metadata": {},
   "outputs": [
    {
     "data": {
      "text/plain": [
       "np.int64(1)"
      ]
     },
     "execution_count": 6,
     "metadata": {},
     "output_type": "execute_result"
    }
   ],
   "source": [
    "data.duplicated().sum()"
   ]
  },
  {
   "cell_type": "code",
   "execution_count": 7,
   "id": "3af4c569",
   "metadata": {},
   "outputs": [
    {
     "data": {
      "text/html": [
       "<div>\n",
       "<style scoped>\n",
       "    .dataframe tbody tr th:only-of-type {\n",
       "        vertical-align: middle;\n",
       "    }\n",
       "\n",
       "    .dataframe tbody tr th {\n",
       "        vertical-align: top;\n",
       "    }\n",
       "\n",
       "    .dataframe thead th {\n",
       "        text-align: right;\n",
       "    }\n",
       "</style>\n",
       "<table border=\"1\" class=\"dataframe\">\n",
       "  <thead>\n",
       "    <tr style=\"text-align: right;\">\n",
       "      <th></th>\n",
       "      <th>age</th>\n",
       "      <th>sex</th>\n",
       "      <th>bmi</th>\n",
       "      <th>children</th>\n",
       "      <th>smoker</th>\n",
       "      <th>region</th>\n",
       "      <th>expenses</th>\n",
       "    </tr>\n",
       "  </thead>\n",
       "  <tbody>\n",
       "    <tr>\n",
       "      <th>581</th>\n",
       "      <td>19</td>\n",
       "      <td>male</td>\n",
       "      <td>30.6</td>\n",
       "      <td>0</td>\n",
       "      <td>no</td>\n",
       "      <td>northwest</td>\n",
       "      <td>1639.56</td>\n",
       "    </tr>\n",
       "  </tbody>\n",
       "</table>\n",
       "</div>"
      ],
      "text/plain": [
       "     age   sex   bmi  children smoker     region  expenses\n",
       "581   19  male  30.6         0     no  northwest   1639.56"
      ]
     },
     "execution_count": 7,
     "metadata": {},
     "output_type": "execute_result"
    }
   ],
   "source": [
    "data[data.duplicated()]"
   ]
  },
  {
   "cell_type": "code",
   "execution_count": 8,
   "id": "48668ba9",
   "metadata": {},
   "outputs": [],
   "source": [
    "data.drop_duplicates(inplace=True)"
   ]
  },
  {
   "cell_type": "code",
   "execution_count": 9,
   "id": "dd7a9c59",
   "metadata": {},
   "outputs": [
    {
     "data": {
      "text/plain": [
       "(['age', 'bmi', 'children', 'expenses'], ['sex', 'smoker', 'region'])"
      ]
     },
     "execution_count": 9,
     "metadata": {},
     "output_type": "execute_result"
    }
   ],
   "source": [
    "num_cols = data.select_dtypes(include='number').columns.tolist()\n",
    "cat_cols = data.select_dtypes(exclude='number').columns.tolist()\n",
    "\n",
    "num_cols, cat_cols"
   ]
  },
  {
   "cell_type": "code",
   "execution_count": 11,
   "id": "dda4a88e",
   "metadata": {},
   "outputs": [
    {
     "data": {
      "text/plain": [
       "array([[<Axes: title={'center': 'age'}>, <Axes: title={'center': 'bmi'}>],\n",
       "       [<Axes: title={'center': 'children'}>,\n",
       "        <Axes: title={'center': 'expenses'}>]], dtype=object)"
      ]
     },
     "execution_count": 11,
     "metadata": {},
     "output_type": "execute_result"
    },
    {
     "data": {
      "image/png": "[encoded data removed]",
      "text/plain": [
       "<Figure size 1500x1000 with 4 Axes>"
      ]
     },
     "metadata": {},
     "output_type": "display_data"
    }
   ],
   "source": [
    "data[num_cols].hist(bins=20, figsize=(15,10))"
   ]
  },
  {
   "cell_type": "code",
   "execution_count": 15,
   "id": "7986dc72",
   "metadata": {},
   "outputs": [
    {
     "data": {
      "image/png": "[encoded data removed]",
      "text/plain": [
       "<Figure size 1500x1000 with 4 Axes>"
      ]
     },
     "metadata": {},
     "output_type": "display_data"
    }
   ],
   "source": [
    "plt.figure(figsize=(15,10))\n",
    "\n",
    "for i, col in enumerate(num_cols):\n",
    "    plt.subplot(2,2,i+1)\n",
    "    sns.boxplot(data=data, x=col)\n",
    "    plt.xlabel(col)\n",
    "    plt.grid(True)\n",
    "    plt.title(f'Count of {col}')\n",
    "plt.show()"
   ]
  },
  {
   "cell_type": "code",
   "execution_count": 13,
   "id": "08491686",
   "metadata": {},
   "outputs": [
    {
     "data": {
      "image/png": "[encoded data removed]",
      "text/plain": [
       "<Figure size 1500x1000 with 3 Axes>"
      ]
     },
     "metadata": {},
     "output_type": "display_data"
    }
   ],
   "source": [
    "plt.figure(figsize=(15,10))\n",
    "\n",
    "for i, col in enumerate(cat_cols):\n",
    "    plt.subplot(2,2,i+1)\n",
    "    sns.countplot(data=data, x=col)\n",
    "    plt.xlabel(col)\n",
    "    plt.grid(True)\n",
    "    plt.title(f'Count of {col}')\n",
    "plt.show()"
   ]
  },
  {
   "cell_type": "code",
   "execution_count": 16,
   "id": "456d9a9d",
   "metadata": {},
   "outputs": [],
   "source": [
    "from sklearn.preprocessing import StandardScaler\n",
    "\n",
    "scaler = StandardScaler()\n",
    "\n",
    "data[num_cols] = scaler.fit_transform(data[num_cols])"
   ]
  },
  {
   "cell_type": "code",
   "execution_count": 17,
   "id": "0fb093b8",
   "metadata": {},
   "outputs": [],
   "source": [
    "from sklearn.preprocessing import LabelEncoder\n",
    "\n",
    "encoder = LabelEncoder()\n",
    "\n",
    "for col in cat_cols:\n",
    "    data[col] = encoder.fit_transform(data[col])"
   ]
  },
  {
   "cell_type": "code",
   "execution_count": 18,
   "id": "e7967f6a",
   "metadata": {},
   "outputs": [
    {
     "data": {
      "text/html": [
       "<div>\n",
       "<style scoped>\n",
       "    .dataframe tbody tr th:only-of-type {\n",
       "        vertical-align: middle;\n",
       "    }\n",
       "\n",
       "    .dataframe tbody tr th {\n",
       "        vertical-align: top;\n",
       "    }\n",
       "\n",
       "    .dataframe thead th {\n",
       "        text-align: right;\n",
       "    }\n",
       "</style>\n",
       "<table border=\"1\" class=\"dataframe\">\n",
       "  <thead>\n",
       "    <tr style=\"text-align: right;\">\n",
       "      <th></th>\n",
       "      <th>age</th>\n",
       "      <th>sex</th>\n",
       "      <th>bmi</th>\n",
       "      <th>children</th>\n",
       "      <th>smoker</th>\n",
       "      <th>region</th>\n",
       "      <th>expenses</th>\n",
       "    </tr>\n",
       "  </thead>\n",
       "  <tbody>\n",
       "    <tr>\n",
       "      <th>0</th>\n",
       "      <td>-1.440418</td>\n",
       "      <td>0</td>\n",
       "      <td>-0.453484</td>\n",
       "      <td>-0.909234</td>\n",
       "      <td>1</td>\n",
       "      <td>3</td>\n",
       "      <td>0.297856</td>\n",
       "    </tr>\n",
       "    <tr>\n",
       "      <th>1</th>\n",
       "      <td>-1.511647</td>\n",
       "      <td>1</td>\n",
       "      <td>0.513986</td>\n",
       "      <td>-0.079442</td>\n",
       "      <td>0</td>\n",
       "      <td>2</td>\n",
       "      <td>-0.954381</td>\n",
       "    </tr>\n",
       "    <tr>\n",
       "      <th>2</th>\n",
       "      <td>-0.799350</td>\n",
       "      <td>1</td>\n",
       "      <td>0.382803</td>\n",
       "      <td>1.580143</td>\n",
       "      <td>0</td>\n",
       "      <td>2</td>\n",
       "      <td>-0.729373</td>\n",
       "    </tr>\n",
       "    <tr>\n",
       "      <th>3</th>\n",
       "      <td>-0.443201</td>\n",
       "      <td>1</td>\n",
       "      <td>-1.306169</td>\n",
       "      <td>-0.909234</td>\n",
       "      <td>0</td>\n",
       "      <td>1</td>\n",
       "      <td>0.719104</td>\n",
       "    </tr>\n",
       "    <tr>\n",
       "      <th>4</th>\n",
       "      <td>-0.514431</td>\n",
       "      <td>1</td>\n",
       "      <td>-0.289506</td>\n",
       "      <td>-0.909234</td>\n",
       "      <td>0</td>\n",
       "      <td>1</td>\n",
       "      <td>-0.777498</td>\n",
       "    </tr>\n",
       "    <tr>\n",
       "      <th>...</th>\n",
       "      <td>...</td>\n",
       "      <td>...</td>\n",
       "      <td>...</td>\n",
       "      <td>...</td>\n",
       "      <td>...</td>\n",
       "      <td>...</td>\n",
       "      <td>...</td>\n",
       "    </tr>\n",
       "    <tr>\n",
       "      <th>1333</th>\n",
       "      <td>0.767704</td>\n",
       "      <td>1</td>\n",
       "      <td>0.054847</td>\n",
       "      <td>1.580143</td>\n",
       "      <td>0</td>\n",
       "      <td>1</td>\n",
       "      <td>-0.221263</td>\n",
       "    </tr>\n",
       "    <tr>\n",
       "      <th>1334</th>\n",
       "      <td>-1.511647</td>\n",
       "      <td>0</td>\n",
       "      <td>0.202427</td>\n",
       "      <td>-0.909234</td>\n",
       "      <td>0</td>\n",
       "      <td>0</td>\n",
       "      <td>-0.914695</td>\n",
       "    </tr>\n",
       "    <tr>\n",
       "      <th>1335</th>\n",
       "      <td>-1.511647</td>\n",
       "      <td>0</td>\n",
       "      <td>1.022317</td>\n",
       "      <td>-0.909234</td>\n",
       "      <td>0</td>\n",
       "      <td>2</td>\n",
       "      <td>-0.962288</td>\n",
       "    </tr>\n",
       "    <tr>\n",
       "      <th>1336</th>\n",
       "      <td>-1.297958</td>\n",
       "      <td>0</td>\n",
       "      <td>-0.797838</td>\n",
       "      <td>-0.909234</td>\n",
       "      <td>0</td>\n",
       "      <td>3</td>\n",
       "      <td>-0.931053</td>\n",
       "    </tr>\n",
       "    <tr>\n",
       "      <th>1337</th>\n",
       "      <td>1.551231</td>\n",
       "      <td>0</td>\n",
       "      <td>-0.256711</td>\n",
       "      <td>-0.909234</td>\n",
       "      <td>1</td>\n",
       "      <td>1</td>\n",
       "      <td>1.310297</td>\n",
       "    </tr>\n",
       "  </tbody>\n",
       "</table>\n",
       "<p>1337 rows × 7 columns</p>\n",
       "</div>"
      ],
      "text/plain": [
       "           age  sex       bmi  children  smoker  region  expenses\n",
       "0    -1.440418    0 -0.453484 -0.909234       1       3  0.297856\n",
       "1    -1.511647    1  0.513986 -0.079442       0       2 -0.954381\n",
       "2    -0.799350    1  0.382803  1.580143       0       2 -0.729373\n",
       "3    -0.443201    1 -1.306169 -0.909234       0       1  0.719104\n",
       "4    -0.514431    1 -0.289506 -0.909234       0       1 -0.777498\n",
       "...        ...  ...       ...       ...     ...     ...       ...\n",
       "1333  0.767704    1  0.054847  1.580143       0       1 -0.221263\n",
       "1334 -1.511647    0  0.202427 -0.909234       0       0 -0.914695\n",
       "1335 -1.511647    0  1.022317 -0.909234       0       2 -0.962288\n",
       "1336 -1.297958    0 -0.797838 -0.909234       0       3 -0.931053\n",
       "1337  1.551231    0 -0.256711 -0.909234       1       1  1.310297\n",
       "\n",
       "[1337 rows x 7 columns]"
      ]
     },
     "execution_count": 18,
     "metadata": {},
     "output_type": "execute_result"
    }
   ],
   "source": [
    "data"
   ]
  },
  {
   "cell_type": "code",
   "execution_count": 19,
   "id": "0e3bd9fb",
   "metadata": {},
   "outputs": [],
   "source": [
    "X = data.drop(columns=['expenses'])\n",
    "y = data['expenses']"
   ]
  },
  {
   "cell_type": "code",
   "execution_count": 20,
   "id": "6e8700ce",
   "metadata": {},
   "outputs": [],
   "source": [
    "from sklearn.model_selection import train_test_split\n",
    "\n",
    "X_train, X_test, y_train, y_test = train_test_split(X, y, test_size=0.3, random_state=42)"
   ]
  },
  {
   "cell_type": "code",
   "execution_count": 21,
   "id": "7c2124d3",
   "metadata": {},
   "outputs": [],
   "source": [
    "from sklearn.linear_model import LinearRegression, Lasso, Ridge, ElasticNet\n",
    "from sklearn.tree import DecisionTreeRegressor\n",
    "from sklearn.neighbors import KNeighborsRegressor\n",
    "from sklearn.svm import SVR\n",
    "from sklearn.ensemble import RandomForestRegressor\n",
    "from sklearn.ensemble import GradientBoostingRegressor\n",
    "from xgboost import XGBRegressor\n",
    "from sklearn.metrics import mean_absolute_error, mean_absolute_percentage_error, mean_squared_error, root_mean_squared_error, r2_score"
   ]
  },
  {
   "cell_type": "code",
   "execution_count": 22,
   "id": "9e42507f",
   "metadata": {},
   "outputs": [],
   "source": [
    "models = {\n",
    "    'name': [],\n",
    "\t'model': [],\n",
    "    'pred': [],\n",
    "    'mae': [],\n",
    "    'mape': [],\n",
    "    'mse': [],\n",
    "    'rmse': [],\n",
    "    'r2': []\n",
    "}\n",
    "i=0"
   ]
  },
  {
   "cell_type": "code",
   "execution_count": 23,
   "id": "141cd227",
   "metadata": {},
   "outputs": [
    {
     "name": "stdout",
     "output_type": "stream",
     "text": [
      "Linear Regression:\n",
      "MAE: 0.34550510860273126\n",
      "MAPE: 1.1905310974365413\n",
      "MSE: 0.26567070011352567\n",
      "R2: 0.772470438382168\n"
     ]
    }
   ],
   "source": [
    "models['model'].append(LinearRegression())\n",
    "models['model'][i].fit(X_train,y_train)\n",
    "models['pred'].append(models['model'][i].predict(X_test))\n",
    "\n",
    "models['name'].append('Linear Regression')\n",
    "models['mae'].append(mean_absolute_error(y_test,models['pred'][i]))\n",
    "models['mape'].append(mean_absolute_percentage_error(y_test,models['pred'][i]))\n",
    "models['mse'].append(mean_squared_error(y_test,models['pred'][i]))\n",
    "models['rmse'].append(root_mean_squared_error(y_test,models['pred'][i]))\n",
    "models['r2'].append(r2_score(y_test,models['pred'][i]))\n",
    "\n",
    "print(f\"{models['name'][i]}:\")\n",
    "print(\"MAE:\",models['mae'][i])\n",
    "print(\"MAPE:\",models['mape'][i])\n",
    "print(\"MSE:\",models['mse'][i])\n",
    "print(\"R2:\",models['r2'][i])\n",
    "i+=1"
   ]
  },
  {
   "cell_type": "code",
   "execution_count": 24,
   "id": "9ce47182",
   "metadata": {},
   "outputs": [
    {
     "name": "stdout",
     "output_type": "stream",
     "text": [
      "Lasso Regression:\n",
      "MAE: 0.7784396025439828\n",
      "MAPE: 0.9874935896109098\n",
      "MSE: 1.172127296248828\n",
      "R2: -0.0038502919660607926\n"
     ]
    }
   ],
   "source": [
    "models['model'].append(Lasso(alpha=1.0, max_iter=2000))\n",
    "models['model'][i].fit(X_train,y_train)\n",
    "models['pred'].append(models['model'][i].predict(X_test))\n",
    "\n",
    "models['name'].append('Lasso Regression')\n",
    "models['mae'].append(mean_absolute_error(y_test,models['pred'][i]))\n",
    "models['mape'].append(mean_absolute_percentage_error(y_test,models['pred'][i]))\n",
    "models['mse'].append(mean_squared_error(y_test,models['pred'][i]))\n",
    "models['rmse'].append(root_mean_squared_error(y_test,models['pred'][i]))\n",
    "models['r2'].append(r2_score(y_test,models['pred'][i]))\n",
    "\n",
    "print(f\"{models['name'][i]}:\")\n",
    "print(\"MAE:\",models['mae'][i])\n",
    "print(\"MAPE:\",models['mape'][i])\n",
    "print(\"MSE:\",models['mse'][i])\n",
    "print(\"R2:\",models['r2'][i])\n",
    "i+=1"
   ]
  },
  {
   "cell_type": "code",
   "execution_count": 25,
   "id": "05e1a5a0",
   "metadata": {},
   "outputs": [
    {
     "name": "stdout",
     "output_type": "stream",
     "text": [
      "Ridge Regression:\n",
      "MAE: 0.3466930933932441\n",
      "MAPE: 1.1895766713234108\n",
      "MSE: 0.26678336721899315\n",
      "R2: 0.771517511850844\n"
     ]
    }
   ],
   "source": [
    "models['model'].append(Ridge(alpha=1.0, max_iter=2000))\n",
    "models['model'][i].fit(X_train,y_train)\n",
    "models['pred'].append(models['model'][i].predict(X_test))\n",
    "\n",
    "models['name'].append('Ridge Regression')\n",
    "models['mae'].append(mean_absolute_error(y_test,models['pred'][i]))\n",
    "models['mape'].append(mean_absolute_percentage_error(y_test,models['pred'][i]))\n",
    "models['mse'].append(mean_squared_error(y_test,models['pred'][i]))\n",
    "models['rmse'].append(root_mean_squared_error(y_test,models['pred'][i]))\n",
    "models['r2'].append(r2_score(y_test,models['pred'][i]))\n",
    "\n",
    "print(f\"{models['name'][i]}:\")\n",
    "print(\"MAE:\",models['mae'][i])\n",
    "print(\"MAPE:\",models['mape'][i])\n",
    "print(\"MSE:\",models['mse'][i])\n",
    "print(\"R2:\",models['r2'][i])\n",
    "i+=1"
   ]
  },
  {
   "cell_type": "code",
   "execution_count": 26,
   "id": "ca20b339",
   "metadata": {},
   "outputs": [
    {
     "name": "stdout",
     "output_type": "stream",
     "text": [
      "ElasticNet Regression:\n",
      "MAE: 0.7784396025439828\n",
      "MAPE: 0.9874935896109098\n",
      "MSE: 1.172127296248828\n",
      "R2: -0.0038502919660607926\n"
     ]
    }
   ],
   "source": [
    "models['model'].append(ElasticNet(alpha=1.0, max_iter=2000))\n",
    "models['model'][i].fit(X_train,y_train)\n",
    "models['pred'].append(models['model'][i].predict(X_test))\n",
    "\n",
    "models['name'].append('ElasticNet Regression')\n",
    "models['mae'].append(mean_absolute_error(y_test,models['pred'][i]))\n",
    "models['mape'].append(mean_absolute_percentage_error(y_test,models['pred'][i]))\n",
    "models['mse'].append(mean_squared_error(y_test,models['pred'][i]))\n",
    "models['rmse'].append(root_mean_squared_error(y_test,models['pred'][i]))\n",
    "models['r2'].append(r2_score(y_test,models['pred'][i]))\n",
    "\n",
    "print(f\"{models['name'][i]}:\")\n",
    "print(\"MAE:\",models['mae'][i])\n",
    "print(\"MAPE:\",models['mape'][i])\n",
    "print(\"MSE:\",models['mse'][i])\n",
    "print(\"R2:\",models['r2'][i])\n",
    "i+=1"
   ]
  },
  {
   "cell_type": "code",
   "execution_count": 27,
   "id": "abf627f3",
   "metadata": {},
   "outputs": [
    {
     "name": "stdout",
     "output_type": "stream",
     "text": [
      "SVR:\n",
      "MAE: 0.23017557834997435\n",
      "MAPE: 0.7252679606259143\n",
      "MSE: 0.19206077448030062\n",
      "R2: 0.8355125205647046\n"
     ]
    }
   ],
   "source": [
    "models['model'].append(SVR(kernel='rbf', C=1.0))\n",
    "models['model'][i].fit(X_train,y_train)\n",
    "models['pred'].append(models['model'][i].predict(X_test))\n",
    "\n",
    "models['name'].append('SVR')\n",
    "models['mae'].append(mean_absolute_error(y_test,models['pred'][i]))\n",
    "models['mape'].append(mean_absolute_percentage_error(y_test,models['pred'][i]))\n",
    "models['mse'].append(mean_squared_error(y_test,models['pred'][i]))\n",
    "models['rmse'].append(root_mean_squared_error(y_test,models['pred'][i]))\n",
    "models['r2'].append(r2_score(y_test,models['pred'][i]))\n",
    "\n",
    "print(f\"{models['name'][i]}:\")\n",
    "print(\"MAE:\",models['mae'][i])\n",
    "print(\"MAPE:\",models['mape'][i])\n",
    "print(\"MSE:\",models['mse'][i])\n",
    "print(\"R2:\",models['r2'][i])\n",
    "i+=1"
   ]
  },
  {
   "cell_type": "code",
   "execution_count": 28,
   "id": "2f736281",
   "metadata": {},
   "outputs": [
    {
     "name": "stdout",
     "output_type": "stream",
     "text": [
      "Random Forest Regressor:\n",
      "MAE: 0.27972219763123596\n",
      "MAPE: 0.6227535902112586\n",
      "MSE: 0.18533070820052525\n",
      "R2: 0.8412763817268195\n"
     ]
    }
   ],
   "source": [
    "models['model'].append(RandomForestRegressor(\n",
    "        random_state=42,\n",
    "        n_estimators=100,\n",
    "        min_samples_split=10,\n",
    "        min_samples_leaf=2,\n",
    "        max_features='sqrt',\n",
    "        max_depth=6,\n",
    "        oob_score=True\n",
    "    ))\n",
    "models['model'][i].fit(X_train,y_train)\n",
    "models['pred'].append(models['model'][i].predict(X_test))\n",
    "\n",
    "models['name'].append('Random Forest Regressor')\n",
    "models['mae'].append(mean_absolute_error(y_test,models['pred'][i]))\n",
    "models['mape'].append(mean_absolute_percentage_error(y_test,models['pred'][i]))\n",
    "models['mse'].append(mean_squared_error(y_test,models['pred'][i]))\n",
    "models['rmse'].append(root_mean_squared_error(y_test,models['pred'][i]))\n",
    "models['r2'].append(r2_score(y_test,models['pred'][i]))\n",
    "\n",
    "print(f\"{models['name'][i]}:\")\n",
    "print(\"MAE:\",models['mae'][i])\n",
    "print(\"MAPE:\",models['mape'][i])\n",
    "print(\"MSE:\",models['mse'][i])\n",
    "print(\"R2:\",models['r2'][i])\n",
    "i+=1"
   ]
  },
  {
   "cell_type": "code",
   "execution_count": 29,
   "id": "9ebeb0ae",
   "metadata": {},
   "outputs": [
    {
     "name": "stdout",
     "output_type": "stream",
     "text": [
      "Gradient Boosting:\n",
      "MAE: 0.2540448178516111\n",
      "MAPE: 0.64593376037129\n",
      "MSE: 0.1696756232574002\n",
      "R2: 0.8546839370676119\n"
     ]
    }
   ],
   "source": [
    "models['model'].append(GradientBoostingRegressor(\n",
    "    random_state=42,\n",
    "    n_estimators=400,\n",
    "    min_samples_split=10,\n",
    "    min_samples_leaf=4,\n",
    "    max_features='sqrt',\n",
    "    max_depth=3,\n",
    "    learning_rate=0.01,\n",
    "    subsample=0.8\n",
    "))\n",
    "models['model'][i].fit(X_train,y_train)\n",
    "models['pred'].append(models['model'][i].predict(X_test))\n",
    "\n",
    "models['name'].append('Gradient Boosting')\n",
    "models['mae'].append(mean_absolute_error(y_test,models['pred'][i]))\n",
    "models['mape'].append(mean_absolute_percentage_error(y_test,models['pred'][i]))\n",
    "models['mse'].append(mean_squared_error(y_test,models['pred'][i]))\n",
    "models['rmse'].append(root_mean_squared_error(y_test,models['pred'][i]))\n",
    "models['r2'].append(r2_score(y_test,models['pred'][i]))\n",
    "\n",
    "print(f\"{models['name'][i]}:\")\n",
    "print(\"MAE:\",models['mae'][i])\n",
    "print(\"MAPE:\",models['mape'][i])\n",
    "print(\"MSE:\",models['mse'][i])\n",
    "print(\"R2:\",models['r2'][i])\n",
    "i+=1"
   ]
  },
  {
   "cell_type": "code",
   "execution_count": 30,
   "id": "d5a538af",
   "metadata": {},
   "outputs": [
    {
     "name": "stdout",
     "output_type": "stream",
     "text": [
      "K Neighbors Regressor:\n",
      "MAE: 0.34918493033891784\n",
      "MAPE: 1.0448222945195997\n",
      "MSE: 0.3823298930142396\n",
      "R2: 0.672559477150662\n"
     ]
    }
   ],
   "source": [
    "models['model'].append(KNeighborsRegressor())\n",
    "models['model'][i].fit(X_train,y_train)\n",
    "models['pred'].append(models['model'][i].predict(X_test))\n",
    "\n",
    "models['name'].append('K Neighbors Regressor')\n",
    "models['mae'].append(mean_absolute_error(y_test,models['pred'][i]))\n",
    "models['mape'].append(mean_absolute_percentage_error(y_test,models['pred'][i]))\n",
    "models['mse'].append(mean_squared_error(y_test,models['pred'][i]))\n",
    "models['rmse'].append(root_mean_squared_error(y_test,models['pred'][i]))\n",
    "models['r2'].append(r2_score(y_test,models['pred'][i]))\n",
    "\n",
    "print(f\"{models['name'][i]}:\")\n",
    "print(\"MAE:\",models['mae'][i])\n",
    "print(\"MAPE:\",models['mape'][i])\n",
    "print(\"MSE:\",models['mse'][i])\n",
    "print(\"R2:\",models['r2'][i])\n",
    "i+=1"
   ]
  },
  {
   "cell_type": "code",
   "execution_count": 31,
   "id": "79d8e77a",
   "metadata": {},
   "outputs": [
    {
     "name": "stdout",
     "output_type": "stream",
     "text": [
      "Decision Tree Regressor:\n",
      "MAE: 0.23602145622767223\n",
      "MAPE: 0.8619144388755642\n",
      "MSE: 0.26609209946818924\n",
      "R2: 0.7721095374232303\n"
     ]
    }
   ],
   "source": [
    "models['model'].append(DecisionTreeRegressor())\n",
    "models['model'][i].fit(X_train,y_train)\n",
    "models['pred'].append(models['model'][i].predict(X_test))\n",
    "\n",
    "models['name'].append('Decision Tree Regressor')\n",
    "models['mae'].append(mean_absolute_error(y_test,models['pred'][i]))\n",
    "models['mape'].append(mean_absolute_percentage_error(y_test,models['pred'][i]))\n",
    "models['mse'].append(mean_squared_error(y_test,models['pred'][i]))\n",
    "models['rmse'].append(root_mean_squared_error(y_test,models['pred'][i]))\n",
    "models['r2'].append(r2_score(y_test,models['pred'][i]))\n",
    "\n",
    "print(f\"{models['name'][i]}:\")\n",
    "print(\"MAE:\",models['mae'][i])\n",
    "print(\"MAPE:\",models['mape'][i])\n",
    "print(\"MSE:\",models['mse'][i])\n",
    "print(\"R2:\",models['r2'][i])\n",
    "i+=1"
   ]
  },
  {
   "cell_type": "code",
   "execution_count": 32,
   "id": "d65e4223",
   "metadata": {},
   "outputs": [
    {
     "name": "stdout",
     "output_type": "stream",
     "text": [
      "XGB Regressor:\n",
      "MAE: 0.36159738541172226\n",
      "MAPE: 0.7995156639058077\n",
      "MSE: 0.26577722978409934\n",
      "R2: 0.7723792026936462\n"
     ]
    }
   ],
   "source": [
    "models['model'].append(XGBRegressor(\n",
    "    random_state=42,\n",
    "    objective='reg:squarederror',\n",
    "    subsample=1.0,\n",
    "    reg_lambda=1,\n",
    "    reg_alpha=0.1,\n",
    "    n_estimators=200,\n",
    "    min_child_weight=1,\n",
    "    max_depth=4,\n",
    "    learning_rate=0.01,\n",
    "    gamma=0.1,\n",
    "    colsample_bytree=0.8\n",
    "))\n",
    "models['model'][i].fit(X_train,y_train)\n",
    "models['pred'].append(models['model'][i].predict(X_test))\n",
    "\n",
    "models['name'].append('XGB Regressor')\n",
    "models['mae'].append(mean_absolute_error(y_test,models['pred'][i]))\n",
    "models['mape'].append(mean_absolute_percentage_error(y_test,models['pred'][i]))\n",
    "models['mse'].append(mean_squared_error(y_test,models['pred'][i]))\n",
    "models['rmse'].append(root_mean_squared_error(y_test,models['pred'][i]))\n",
    "models['r2'].append(r2_score(y_test,models['pred'][i]))\n",
    "\n",
    "print(f\"{models['name'][i]}:\")\n",
    "print(\"MAE:\",models['mae'][i])\n",
    "print(\"MAPE:\",models['mape'][i])\n",
    "print(\"MSE:\",models['mse'][i])\n",
    "print(\"R2:\",models['r2'][i])\n",
    "i+=1"
   ]
  },
  {
   "cell_type": "code",
   "execution_count": 33,
   "id": "1d3e44d1",
   "metadata": {},
   "outputs": [
    {
     "data": {
      "text/html": [
       "<div>\n",
       "<style scoped>\n",
       "    .dataframe tbody tr th:only-of-type {\n",
       "        vertical-align: middle;\n",
       "    }\n",
       "\n",
       "    .dataframe tbody tr th {\n",
       "        vertical-align: top;\n",
       "    }\n",
       "\n",
       "    .dataframe thead th {\n",
       "        text-align: right;\n",
       "    }\n",
       "</style>\n",
       "<table border=\"1\" class=\"dataframe\">\n",
       "  <thead>\n",
       "    <tr style=\"text-align: right;\">\n",
       "      <th></th>\n",
       "      <th>name</th>\n",
       "      <th>mae</th>\n",
       "      <th>mape</th>\n",
       "      <th>mse</th>\n",
       "      <th>rsme</th>\n",
       "      <th>r2</th>\n",
       "    </tr>\n",
       "  </thead>\n",
       "  <tbody>\n",
       "    <tr>\n",
       "      <th>0</th>\n",
       "      <td>Linear Regression</td>\n",
       "      <td>0.345505</td>\n",
       "      <td>1.190531</td>\n",
       "      <td>0.265671</td>\n",
       "      <td>0.515433</td>\n",
       "      <td>0.772470</td>\n",
       "    </tr>\n",
       "    <tr>\n",
       "      <th>1</th>\n",
       "      <td>Lasso Regression</td>\n",
       "      <td>0.778440</td>\n",
       "      <td>0.987494</td>\n",
       "      <td>1.172127</td>\n",
       "      <td>1.082648</td>\n",
       "      <td>-0.003850</td>\n",
       "    </tr>\n",
       "    <tr>\n",
       "      <th>2</th>\n",
       "      <td>Ridge Regression</td>\n",
       "      <td>0.346693</td>\n",
       "      <td>1.189577</td>\n",
       "      <td>0.266783</td>\n",
       "      <td>0.516511</td>\n",
       "      <td>0.771518</td>\n",
       "    </tr>\n",
       "    <tr>\n",
       "      <th>3</th>\n",
       "      <td>ElasticNet Regression</td>\n",
       "      <td>0.778440</td>\n",
       "      <td>0.987494</td>\n",
       "      <td>1.172127</td>\n",
       "      <td>1.082648</td>\n",
       "      <td>-0.003850</td>\n",
       "    </tr>\n",
       "    <tr>\n",
       "      <th>4</th>\n",
       "      <td>SVR</td>\n",
       "      <td>0.230176</td>\n",
       "      <td>0.725268</td>\n",
       "      <td>0.192061</td>\n",
       "      <td>0.438247</td>\n",
       "      <td>0.835513</td>\n",
       "    </tr>\n",
       "    <tr>\n",
       "      <th>5</th>\n",
       "      <td>Random Forest Regressor</td>\n",
       "      <td>0.279722</td>\n",
       "      <td>0.622754</td>\n",
       "      <td>0.185331</td>\n",
       "      <td>0.430501</td>\n",
       "      <td>0.841276</td>\n",
       "    </tr>\n",
       "    <tr>\n",
       "      <th>6</th>\n",
       "      <td>Gradient Boosting</td>\n",
       "      <td>0.254045</td>\n",
       "      <td>0.645934</td>\n",
       "      <td>0.169676</td>\n",
       "      <td>0.411917</td>\n",
       "      <td>0.854684</td>\n",
       "    </tr>\n",
       "    <tr>\n",
       "      <th>7</th>\n",
       "      <td>K Neighbors Regressor</td>\n",
       "      <td>0.349185</td>\n",
       "      <td>1.044822</td>\n",
       "      <td>0.382330</td>\n",
       "      <td>0.618328</td>\n",
       "      <td>0.672559</td>\n",
       "    </tr>\n",
       "    <tr>\n",
       "      <th>8</th>\n",
       "      <td>Decision Tree Regressor</td>\n",
       "      <td>0.236021</td>\n",
       "      <td>0.861914</td>\n",
       "      <td>0.266092</td>\n",
       "      <td>0.515841</td>\n",
       "      <td>0.772110</td>\n",
       "    </tr>\n",
       "    <tr>\n",
       "      <th>9</th>\n",
       "      <td>XGB Regressor</td>\n",
       "      <td>0.361597</td>\n",
       "      <td>0.799516</td>\n",
       "      <td>0.265777</td>\n",
       "      <td>0.515536</td>\n",
       "      <td>0.772379</td>\n",
       "    </tr>\n",
       "  </tbody>\n",
       "</table>\n",
       "</div>"
      ],
      "text/plain": [
       "                      name       mae      mape       mse      rsme        r2\n",
       "0        Linear Regression  0.345505  1.190531  0.265671  0.515433  0.772470\n",
       "1         Lasso Regression  0.778440  0.987494  1.172127  1.082648 -0.003850\n",
       "2         Ridge Regression  0.346693  1.189577  0.266783  0.516511  0.771518\n",
       "3    ElasticNet Regression  0.778440  0.987494  1.172127  1.082648 -0.003850\n",
       "4                      SVR  0.230176  0.725268  0.192061  0.438247  0.835513\n",
       "5  Random Forest Regressor  0.279722  0.622754  0.185331  0.430501  0.841276\n",
       "6        Gradient Boosting  0.254045  0.645934  0.169676  0.411917  0.854684\n",
       "7    K Neighbors Regressor  0.349185  1.044822  0.382330  0.618328  0.672559\n",
       "8  Decision Tree Regressor  0.236021  0.861914  0.266092  0.515841  0.772110\n",
       "9            XGB Regressor  0.361597  0.799516  0.265777  0.515536  0.772379"
      ]
     },
     "execution_count": 33,
     "metadata": {},
     "output_type": "execute_result"
    }
   ],
   "source": [
    "results = pd.DataFrame({\n",
    "    'name': models['name'],\n",
    "    'mae': models['mae'],\n",
    "    'mape': models['mape'],\n",
    "    'mse': models['mse'],\n",
    "    'rsme': models['rmse'],\n",
    "    'r2': models['r2']\n",
    "})\n",
    "\n",
    "results"
   ]
  }
 ],
 "metadata": {
  "kernelspec": {
   "display_name": "Python 3",
   "language": "python",
   "name": "python3"
  },
  "language_info": {
   "codemirror_mode": {
    "name": "ipython",
    "version": 3
   },
   "file_extension": ".py",
   "mimetype": "text/x-python",
   "name": "python",
   "nbconvert_exporter": "python",
   "pygments_lexer": "ipython3",
   "version": "3.12.3"
  }
 },
 "nbformat": 4,
 "nbformat_minor": 5
}
