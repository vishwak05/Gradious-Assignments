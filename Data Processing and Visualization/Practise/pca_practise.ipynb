{
 "cells": [
  {
   "cell_type": "markdown",
   "id": "a4a48194",
   "metadata": {},
   "source": [
    "# Solving PCA manually using numpy"
   ]
  },
  {
   "cell_type": "code",
   "execution_count": 30,
   "id": "61a45918",
   "metadata": {},
   "outputs": [],
   "source": [
    "import numpy as np\n",
    "import math"
   ]
  },
  {
   "cell_type": "markdown",
   "id": "aca842fa",
   "metadata": {},
   "source": [
    "### Dataset for SBP and DBP"
   ]
  },
  {
   "cell_type": "code",
   "execution_count": 31,
   "id": "44849aad",
   "metadata": {},
   "outputs": [],
   "source": [
    "data = np.array([[126, 128, 128, 130, 130, 132], [78, 80, 82, 82, 84, 86]])\n",
    "cols = [\"SBP\", \"DBP\"]"
   ]
  },
  {
   "cell_type": "code",
   "execution_count": 32,
   "id": "05e5fdc9",
   "metadata": {},
   "outputs": [],
   "source": [
    "# Mean and Sample variance(n-1)\n",
    "SBP_mean = data[0].mean()\n",
    "DBP_mean = data[1].mean()\n",
    "SBP_var = data[0].var(ddof=1)\n",
    "DBP_var = data[1].var(ddof=1)"
   ]
  },
  {
   "cell_type": "code",
   "execution_count": 33,
   "id": "08765046",
   "metadata": {},
   "outputs": [
    {
     "data": {
      "text/plain": [
       "(np.float64(129.0), np.float64(4.4), np.float64(82.0), np.float64(8.0))"
      ]
     },
     "execution_count": 33,
     "metadata": {},
     "output_type": "execute_result"
    }
   ],
   "source": [
    "SBP_mean, SBP_var, DBP_mean, DBP_var"
   ]
  },
  {
   "cell_type": "markdown",
   "id": "c192ce4e",
   "metadata": {},
   "source": [
    "## Step:1 Centering the data (x-mean)"
   ]
  },
  {
   "cell_type": "code",
   "execution_count": 34,
   "id": "1fc576b6",
   "metadata": {},
   "outputs": [],
   "source": [
    "# Centered data (x-mean)\n",
    "SBP_center = data[0]-SBP_mean\n",
    "DBP_center = data[1]-DBP_mean"
   ]
  },
  {
   "cell_type": "code",
   "execution_count": 35,
   "id": "4b4c7ae7",
   "metadata": {},
   "outputs": [],
   "source": [
    "data = np.vstack((data, SBP_center, DBP_center))"
   ]
  },
  {
   "cell_type": "code",
   "execution_count": 36,
   "id": "2a61dfa0",
   "metadata": {},
   "outputs": [
    {
     "data": {
      "text/plain": [
       "array([[126.,  78.,  -3.,  -4.],\n",
       "       [128.,  80.,  -1.,  -2.],\n",
       "       [128.,  82.,  -1.,   0.],\n",
       "       [130.,  82.,   1.,   0.],\n",
       "       [130.,  84.,   1.,   2.],\n",
       "       [132.,  86.,   3.,   4.]])"
      ]
     },
     "execution_count": 36,
     "metadata": {},
     "output_type": "execute_result"
    }
   ],
   "source": [
    "data.T"
   ]
  },
  {
   "cell_type": "code",
   "execution_count": 8,
   "id": "5c1e72de",
   "metadata": {},
   "outputs": [
    {
     "data": {
      "text/plain": [
       "6"
      ]
     },
     "execution_count": 8,
     "metadata": {},
     "output_type": "execute_result"
    }
   ],
   "source": [
    "data_len = data.shape[1]\n",
    "data_len"
   ]
  },
  {
   "cell_type": "markdown",
   "id": "bcc89b60",
   "metadata": {},
   "source": [
    "## Step:2 Finding the Covariance Matrix"
   ]
  },
  {
   "cell_type": "code",
   "execution_count": 9,
   "id": "93e65ccc",
   "metadata": {},
   "outputs": [
    {
     "data": {
      "text/plain": [
       "np.float64(5.6000000000000005)"
      ]
     },
     "execution_count": 9,
     "metadata": {},
     "output_type": "execute_result"
    }
   ],
   "source": [
    "covariance = (1/(data_len-1)*((SBP_center*DBP_center).sum()))\n",
    "covariance"
   ]
  },
  {
   "cell_type": "code",
   "execution_count": 10,
   "id": "e3fecfa6",
   "metadata": {},
   "outputs": [
    {
     "data": {
      "text/plain": [
       "array([[4.4, 5.6],\n",
       "       [5.6, 8. ]])"
      ]
     },
     "execution_count": 10,
     "metadata": {},
     "output_type": "execute_result"
    }
   ],
   "source": [
    "cov_mat = np.array([[SBP_var, covariance], [covariance, DBP_var]])\n",
    "cov_mat"
   ]
  },
  {
   "cell_type": "markdown",
   "id": "7496f43b",
   "metadata": {},
   "source": [
    "## Step 3: Calculating Eigenvalues\n",
    "\n",
    "$(A - \\lambda I)\\mathbf{v} = 0$\n",
    "\n",
    "Finding quaratic equation of eigenvalues:\n",
    "\n",
    "$\\lambda ^ 2 - 12.4 \\lambda + 3.84$\n",
    "\n",
    "$x = \\frac{-b \\pm \\sqrt{b^2 - 4ac}}{2a}$\n",
    "\n",
    "$\\lambda = \\frac{-12.4 \\pm \\sqrt{12.4^2 - 4(1)(3.84)}}{2(1)}$"
   ]
  },
  {
   "cell_type": "code",
   "execution_count": 11,
   "id": "740a4b6b",
   "metadata": {},
   "outputs": [
    {
     "data": {
      "text/plain": [
       "(12.082176467941098, 0.31782353205890246)"
      ]
     },
     "execution_count": 11,
     "metadata": {},
     "output_type": "execute_result"
    }
   ],
   "source": [
    "eigen_1 = (-(-12.4) + math.sqrt((12.4**2) - (4*1*3.84))) / (2*1)\n",
    "eigen_2 = (-(-12.4) - math.sqrt((12.4**2) - (4*1*3.84))) / (2*1)\n",
    "\n",
    "eigen_1, eigen_2"
   ]
  },
  {
   "cell_type": "markdown",
   "id": "37df5ba3",
   "metadata": {},
   "source": [
    "## Step 4: Finding the eigen vectors\n",
    "\n",
    "$(A - \\lambda I)\\mathbf{v} = 0$"
   ]
  },
  {
   "cell_type": "code",
   "execution_count": 12,
   "id": "6c0987f9",
   "metadata": {},
   "outputs": [
    {
     "data": {
      "text/plain": [
       "(array([[12.08217647,  0.        ],\n",
       "        [ 0.        , 12.08217647]]),\n",
       " array([[0.31782353, 0.        ],\n",
       "        [0.        , 0.31782353]]))"
      ]
     },
     "execution_count": 12,
     "metadata": {},
     "output_type": "execute_result"
    }
   ],
   "source": [
    "imat_1 = np.identity(2) * eigen_1\n",
    "imat_2 = np.identity(2) * eigen_2\n",
    "imat_1, imat_2"
   ]
  },
  {
   "cell_type": "code",
   "execution_count": 13,
   "id": "cab1dbac",
   "metadata": {},
   "outputs": [
    {
     "data": {
      "text/plain": [
       "(array([[-7.68217647,  5.6       ],\n",
       "        [ 5.6       , -4.08217647]]),\n",
       " array([[4.08217647, 5.6       ],\n",
       "        [5.6       , 7.68217647]]))"
      ]
     },
     "execution_count": 13,
     "metadata": {},
     "output_type": "execute_result"
    }
   ],
   "source": [
    "mat_vec1 = cov_mat - imat_1\n",
    "mat_vec2 = cov_mat - imat_2\n",
    "mat_vec1, mat_vec2"
   ]
  },
  {
   "cell_type": "markdown",
   "id": "f0feb167",
   "metadata": {},
   "source": [
    "### Finding the $(A- \\lambda I) \\mathbf{v}=0$\n",
    "\n",
    "$\\lambda _1$ = 12.08217647\n",
    "\n",
    "$\\lambda _2$ = 0.31782353\n",
    "\n",
    "1. Solving $(A- \\lambda _1 I)$:\n",
    "\n",
    "$\\begin{bmatrix}\n",
    "  -7.68217647 &  5.6\\\\ \n",
    "  5.6 & -4.08217647\n",
    "\\end{bmatrix}$\n",
    "\n",
    "2. Solving $(A- \\lambda _2 I)$:\n",
    "\n",
    "$\\begin{bmatrix}\n",
    "  4.08217647 &  5.6\\\\ \n",
    "  5.6 & 7.68217647\n",
    "\\end{bmatrix}$\n",
    "\n",
    "1 and 2 are same but swapped diagonal elements\n",
    "\n",
    "### Eigen Vector equation:\n",
    "\n",
    "**Eigen Vector 1:**\n",
    "\n",
    "$-7.68217647x + 5.6y = 0$\n",
    "\n",
    "$5.6y = 7.68217647x$\n",
    "\n",
    "$\\begin{bmatrix} 7.682/5.6 \\\\ 1 \\end{bmatrix}$\n",
    "\n",
    "$\\begin{bmatrix} 1.372 \\\\ 1 \\end{bmatrix}$\n",
    "\n",
    "**Eigen Vector 2:**\n",
    "\n",
    "$4.08217647x + 5.6y = 0$\n",
    "\n",
    "$5.6y = -4.08217647x$\n",
    "\n",
    "$\\begin{bmatrix} -4.082/5.6 \\\\ 1 \\end{bmatrix}$\n",
    "\n",
    "$\\begin{bmatrix} -0.729 \\\\ 1 \\end{bmatrix}$"
   ]
  },
  {
   "cell_type": "code",
   "execution_count": 14,
   "id": "ef1f1b91",
   "metadata": {},
   "outputs": [
    {
     "data": {
      "text/plain": [
       "(array([[-7.68217647,  5.6       ],\n",
       "        [ 5.6       , -4.08217647]]),\n",
       " array([[4.08217647, 5.6       ],\n",
       "        [5.6       , 7.68217647]]))"
      ]
     },
     "execution_count": 14,
     "metadata": {},
     "output_type": "execute_result"
    }
   ],
   "source": [
    "mat_vec1, mat_vec2"
   ]
  },
  {
   "cell_type": "code",
   "execution_count": 15,
   "id": "651ef998",
   "metadata": {},
   "outputs": [
    {
     "data": {
      "text/plain": [
       "(array([-1.37181723,  1.        ]), array([0.72896008, 1.        ]))"
      ]
     },
     "execution_count": 15,
     "metadata": {},
     "output_type": "execute_result"
    }
   ],
   "source": [
    "eigen_vec1 = np.array([mat_vec1[0][0] / mat_vec1[0][1],1])\n",
    "eigen_vec2 = np.array([mat_vec2[0][0] / mat_vec2[0][1],1])\n",
    "eigen_vec1, eigen_vec2"
   ]
  },
  {
   "cell_type": "markdown",
   "id": "3445db18",
   "metadata": {},
   "source": [
    "## Step 5: Normalizing the eigen vectors\n",
    "\n",
    "$\\frac{1}{||v||} . v = \\frac{x / ||v||}{y / ||v||}$\n",
    "\n",
    "$||v|| = \\sqrt{v_1 ^ 2 + v_2 ^ 2}$"
   ]
  },
  {
   "cell_type": "code",
   "execution_count": 16,
   "id": "f659700f",
   "metadata": {},
   "outputs": [
    {
     "data": {
      "text/plain": [
       "(1.6976108219192407, 1.2374905266001552)"
      ]
     },
     "execution_count": 16,
     "metadata": {},
     "output_type": "execute_result"
    }
   ],
   "source": [
    "vec1_dist = math.sqrt((eigen_vec1[0]**2) + (eigen_vec1[1]**2))\n",
    "vec2_dist = math.sqrt((eigen_vec2[0]**2) + (eigen_vec2[1]**2))\n",
    "vec1_dist, vec2_dist"
   ]
  },
  {
   "cell_type": "code",
   "execution_count": 17,
   "id": "ffea6988",
   "metadata": {},
   "outputs": [
    {
     "data": {
      "text/plain": [
       "(array([-0.80808699,  0.58906316]), array([0.58906316, 0.80808699]))"
      ]
     },
     "execution_count": 17,
     "metadata": {},
     "output_type": "execute_result"
    }
   ],
   "source": [
    "eigen_vec1 /= vec1_dist\n",
    "eigen_vec2 /= vec2_dist\n",
    "eigen_vec1, eigen_vec2"
   ]
  },
  {
   "cell_type": "code",
   "execution_count": 18,
   "id": "a6bdeabf",
   "metadata": {},
   "outputs": [
    {
     "data": {
      "text/plain": [
       "array([[-0.80808699,  0.58906316],\n",
       "       [ 0.58906316,  0.80808699]])"
      ]
     },
     "execution_count": 18,
     "metadata": {},
     "output_type": "execute_result"
    }
   ],
   "source": [
    "eigen_vectors = np.vstack((eigen_vec1, eigen_vec2))\n",
    "eigen_vectors"
   ]
  },
  {
   "cell_type": "code",
   "execution_count": 19,
   "id": "661638f1",
   "metadata": {},
   "outputs": [
    {
     "data": {
      "text/plain": [
       "(array([ 0.31782353, 12.08217647]),\n",
       " array([[-0.80808699, -0.58906316],\n",
       "        [ 0.58906316, -0.80808699]]))"
      ]
     },
     "execution_count": 19,
     "metadata": {},
     "output_type": "execute_result"
    }
   ],
   "source": [
    "# Built-in methods\n",
    "eigenvalues, eigenvectors = np.linalg.eig(cov_mat)\n",
    "eigenvalues, eigenvectors"
   ]
  },
  {
   "cell_type": "markdown",
   "id": "f4ecca11",
   "metadata": {},
   "source": [
    "## Step 6: Principle Component Calculation\n",
    "\n",
    "- Muplitplying Centered Data and Eigen Vectors\n",
    "\n",
    "- Finding the variance of resultant matrix\n",
    "\n",
    "- Which is Data Covered by Principle Component"
   ]
  },
  {
   "cell_type": "code",
   "execution_count": 20,
   "id": "252aa5c8",
   "metadata": {},
   "outputs": [
    {
     "data": {
      "text/plain": [
       "array([[-3., -4.],\n",
       "       [-1., -2.],\n",
       "       [-1.,  0.],\n",
       "       [ 1.,  0.],\n",
       "       [ 1.,  2.],\n",
       "       [ 3.,  4.]])"
      ]
     },
     "execution_count": 20,
     "metadata": {},
     "output_type": "execute_result"
    }
   ],
   "source": [
    "center_data = data[2:].T\n",
    "center_data"
   ]
  },
  {
   "cell_type": "code",
   "execution_count": null,
   "id": "e873c61e",
   "metadata": {},
   "outputs": [
    {
     "data": {
      "text/plain": [
       "array([[ 0.06800833, -4.99953747],\n",
       "       [-0.37003933, -2.20523715],\n",
       "       [ 0.80808699, -0.58906316],\n",
       "       [-0.80808699,  0.58906316],\n",
       "       [ 0.37003933,  2.20523715],\n",
       "       [-0.06800833,  4.99953747]])"
      ]
     },
     "execution_count": 27,
     "metadata": {},
     "output_type": "execute_result"
    }
   ],
   "source": [
    "pc = np.dot(center_data, eigen_vectors)\n",
    "pc1_var = pc[0].var(ddof=1)\n",
    "pc2_var = pc[1].var(ddof=1)\n",
    "pc"
   ]
  },
  {
   "cell_type": "code",
   "execution_count": 22,
   "id": "086d024f",
   "metadata": {},
   "outputs": [
    {
     "data": {
      "text/plain": [
       "(np.float64(12.840010200459021), np.float64(1.683975518898345))"
      ]
     },
     "execution_count": 22,
     "metadata": {},
     "output_type": "execute_result"
    }
   ],
   "source": [
    "pc1_var, pc2_var"
   ]
  },
  {
   "cell_type": "markdown",
   "id": "8c3a72f9",
   "metadata": {},
   "source": [
    "## Step 7: Percentage Covered by PC\n",
    "\n",
    "$pc_1 coverage  = \\frac{pc_1}{pc_1 + pc_2}$\n",
    "\n",
    "$pc_2 coverage  = \\frac{pc_2}{pc_1 + pc_2}$"
   ]
  },
  {
   "cell_type": "code",
   "execution_count": 23,
   "id": "7b20e8d5",
   "metadata": {},
   "outputs": [
    {
     "data": {
      "text/plain": [
       "(np.float64(0.8840555511801443), np.float64(0.11594444881985567))"
      ]
     },
     "execution_count": 23,
     "metadata": {},
     "output_type": "execute_result"
    }
   ],
   "source": [
    "pc1_cover = pc1_var / (pc1_var + pc2_var)\n",
    "pc2_cover = pc2_var / (pc1_var + pc2_var)\n",
    "\n",
    "pc1_cover, pc2_cover"
   ]
  },
  {
   "cell_type": "code",
   "execution_count": 26,
   "id": "517b55fc",
   "metadata": {},
   "outputs": [
    {
     "name": "stdout",
     "output_type": "stream",
     "text": [
      "The PCA column is SBP with coverage of: 88.41%\n"
     ]
    }
   ],
   "source": [
    "pca_col = max(pc1_cover, pc2_cover)\n",
    "\n",
    "print(f\"The PCA column is SBP with coverage of: {round(pca_col*100, 2)}%\")"
   ]
  },
  {
   "cell_type": "code",
   "execution_count": null,
   "id": "09406d3c",
   "metadata": {},
   "outputs": [],
   "source": [
    "# Finding z-score manual method\n",
    "\n",
    "num_data = data[num_cols].copy()\n",
    "zscore_cols = ['Age_zscore', 'Blood_Pressure_zscore', 'Cholesterol_zscore']\n",
    "\n",
    "num_data['Age_zscore'] = round((num_data['Age'] - num_data['Age'].mean()) / math.sqrt(num_data['Age'].var()), 2)\n",
    "num_data['Blood_Pressure_zscore'] = round((num_data['Blood_Pressure'] - num_data['Blood_Pressure'].mean()) / math.sqrt(num_data['Blood_Pressure'].var()), 2)\n",
    "num_data['Cholesterol_zscore'] = round((num_data['Cholesterol'] - num_data['Cholesterol'].mean()) / math.sqrt(num_data['Cholesterol'].var()), 2)\n",
    "\n",
    "num_data"
   ]
  },
  {
   "cell_type": "code",
   "execution_count": null,
   "id": "b46a419a",
   "metadata": {},
   "outputs": [],
   "source": [
    "# Finding IQR\n",
    "\n",
    "Q1 = data['Age'].quantile(0.25)\n",
    "Q3 = data['Age'].quantile(0.75)\n",
    "IQR = Q3 - Q1\n",
    "outliers = data[(data['Age'] < (Q1 - 1.5 * IQR)) | (data['Age'] > (Q3 + 1.5 * IQR))]\n",
    "outliers"
   ]
  }
 ],
 "metadata": {
  "kernelspec": {
   "display_name": "Python 3",
   "language": "python",
   "name": "python3"
  },
  "language_info": {
   "codemirror_mode": {
    "name": "ipython",
    "version": 3
   },
   "file_extension": ".py",
   "mimetype": "text/x-python",
   "name": "python",
   "nbconvert_exporter": "python",
   "pygments_lexer": "ipython3",
   "version": "3.12.3"
  }
 },
 "nbformat": 4,
 "nbformat_minor": 5
}
