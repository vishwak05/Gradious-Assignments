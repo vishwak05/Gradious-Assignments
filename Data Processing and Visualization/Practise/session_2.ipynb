{
 "cells": [
  {
   "cell_type": "markdown",
   "id": "9fee210a",
   "metadata": {},
   "source": [
    "## Session 2"
   ]
  },
  {
   "cell_type": "code",
   "execution_count": 2,
   "id": "8b942d2d",
   "metadata": {},
   "outputs": [],
   "source": [
    "import numpy as np"
   ]
  },
  {
   "cell_type": "code",
   "execution_count": 3,
   "id": "59106ef7",
   "metadata": {},
   "outputs": [
    {
     "data": {
      "text/plain": [
       "'2.2.5'"
      ]
     },
     "execution_count": 3,
     "metadata": {},
     "output_type": "execute_result"
    }
   ],
   "source": [
    "np.__version__"
   ]
  },
  {
   "cell_type": "code",
   "execution_count": 4,
   "id": "74c84530",
   "metadata": {},
   "outputs": [
    {
     "data": {
      "text/plain": [
       "array([0, 0, 0, 0, 0, 0, 0, 0, 0, 0], dtype=int32)"
      ]
     },
     "execution_count": 4,
     "metadata": {},
     "output_type": "execute_result"
    }
   ],
   "source": [
    "# Create an array filled with zeroes\n",
    "zeroes = np.zeros(10, dtype=np.int32)\n",
    "\n",
    "zeroes"
   ]
  },
  {
   "cell_type": "code",
   "execution_count": 5,
   "id": "0c81a156",
   "metadata": {},
   "outputs": [
    {
     "data": {
      "text/plain": [
       "np.int32(0)"
      ]
     },
     "execution_count": 5,
     "metadata": {},
     "output_type": "execute_result"
    }
   ],
   "source": [
    "# Accessing elements using indexes\n",
    "zeroes[2]"
   ]
  },
  {
   "cell_type": "code",
   "execution_count": 6,
   "id": "e62bf8b8",
   "metadata": {},
   "outputs": [
    {
     "data": {
      "text/plain": [
       "array([0, 1, 2, 3, 4, 5, 6, 7, 8], dtype=int32)"
      ]
     },
     "execution_count": 6,
     "metadata": {},
     "output_type": "execute_result"
    }
   ],
   "source": [
    "first_n = np.arange(9, dtype=np.int32)\n",
    "\n",
    "first_n"
   ]
  },
  {
   "cell_type": "code",
   "execution_count": 7,
   "id": "5d35b6b0",
   "metadata": {},
   "outputs": [
    {
     "data": {
      "text/plain": [
       "np.int32(7)"
      ]
     },
     "execution_count": 7,
     "metadata": {},
     "output_type": "execute_result"
    }
   ],
   "source": [
    "first_n[7]"
   ]
  },
  {
   "cell_type": "code",
   "execution_count": 8,
   "id": "e74aa6ae",
   "metadata": {},
   "outputs": [
    {
     "data": {
      "text/plain": [
       "(9,)"
      ]
     },
     "execution_count": 8,
     "metadata": {},
     "output_type": "execute_result"
    }
   ],
   "source": [
    "# It is 1d array\n",
    "first_n.shape"
   ]
  },
  {
   "cell_type": "code",
   "execution_count": 9,
   "id": "1a4ae390",
   "metadata": {},
   "outputs": [
    {
     "data": {
      "text/plain": [
       "array([[0, 1, 2],\n",
       "       [3, 4, 5],\n",
       "       [6, 7, 8]], dtype=int32)"
      ]
     },
     "execution_count": 9,
     "metadata": {},
     "output_type": "execute_result"
    }
   ],
   "source": [
    "# To make 2D array (3 x 3) array\n",
    "first_n.reshape(3,3)"
   ]
  },
  {
   "cell_type": "code",
   "execution_count": 10,
   "id": "87cd00c4",
   "metadata": {},
   "outputs": [
    {
     "data": {
      "text/plain": [
       "array([0, 1, 2, 3, 4, 5, 6, 7, 8], dtype=int32)"
      ]
     },
     "execution_count": 10,
     "metadata": {},
     "output_type": "execute_result"
    }
   ],
   "source": [
    "# But it is not assigned to first_n\n",
    "first_n"
   ]
  },
  {
   "cell_type": "code",
   "execution_count": 11,
   "id": "ab3fee3b",
   "metadata": {},
   "outputs": [
    {
     "data": {
      "text/plain": [
       "array([[0, 1, 2],\n",
       "       [3, 4, 5],\n",
       "       [6, 7, 8]], dtype=int32)"
      ]
     },
     "execution_count": 11,
     "metadata": {},
     "output_type": "execute_result"
    }
   ],
   "source": [
    "# To reflect the reshape changes, assign it\n",
    "first_n = first_n.reshape(3,3)\n",
    "\n",
    "first_n"
   ]
  },
  {
   "cell_type": "code",
   "execution_count": 12,
   "id": "293cfcb2",
   "metadata": {},
   "outputs": [
    {
     "data": {
      "text/plain": [
       "array([[81, 72, 46, 10, 10],\n",
       "       [39, 11, 35, 17, 17],\n",
       "       [ 9, 57,  1, 45, 44],\n",
       "       [50,  3, 22, 15,  8],\n",
       "       [94, 33, 48, 81, 43]], dtype=int32)"
      ]
     },
     "execution_count": 12,
     "metadata": {},
     "output_type": "execute_result"
    }
   ],
   "source": [
    "# Array of random integers in shape m, n\n",
    "rand_n1 = np.random.randint(low=1, high=100, size=(5,5))\n",
    "\n",
    "rand_n1"
   ]
  },
  {
   "cell_type": "code",
   "execution_count": 13,
   "id": "22cc4a59",
   "metadata": {},
   "outputs": [
    {
     "data": {
      "text/plain": [
       "array([[0.76691967, 0.27697096, 0.12820623, 0.63712753, 0.83726808],\n",
       "       [0.82434861, 0.40608858, 0.23120673, 0.56153769, 0.29101511],\n",
       "       [0.56992399, 0.26581327, 0.36287877, 0.66940964, 0.50801298],\n",
       "       [0.10828474, 0.78573304, 0.63452398, 0.19777074, 0.20917929],\n",
       "       [0.67287747, 0.45246621, 0.60076775, 0.04922034, 0.19660153]])"
      ]
     },
     "execution_count": 13,
     "metadata": {},
     "output_type": "execute_result"
    }
   ],
   "source": [
    "# There are many method for random for different scenarios\n",
    "rand_n2 = np.random.random(size=(5,5))\n",
    "\n",
    "rand_n2"
   ]
  },
  {
   "cell_type": "code",
   "execution_count": 14,
   "id": "46ea05e9",
   "metadata": {},
   "outputs": [
    {
     "data": {
      "text/plain": [
       "array([[0.83184455, 0.79518687, 0.86247819, 0.19272414, 0.14360698],\n",
       "       [0.19587724, 0.16952315, 0.09847815, 0.93041272, 0.13752091],\n",
       "       [0.46287285, 0.10975087, 0.6577241 , 0.89848589, 0.16959788],\n",
       "       [0.14221764, 0.0656776 , 0.01901896, 0.95350087, 0.14855975],\n",
       "       [0.0552692 , 0.89274435, 0.64971384, 0.69702113, 0.19296908]])"
      ]
     },
     "execution_count": 14,
     "metadata": {},
     "output_type": "execute_result"
    }
   ],
   "source": [
    "rand_n3 = np.random.rand(5,5)\n",
    "\n",
    "rand_n3"
   ]
  },
  {
   "cell_type": "code",
   "execution_count": 15,
   "id": "d8120a86",
   "metadata": {},
   "outputs": [
    {
     "data": {
      "text/plain": [
       "array([[6.66725666, 4.49135781, 0.26034433, 3.15877321],\n",
       "       [8.41449937, 0.61922041, 2.72203612, 5.03498359],\n",
       "       [5.55839562, 6.74136202, 3.26576482, 3.33328154]])"
      ]
     },
     "execution_count": 15,
     "metadata": {},
     "output_type": "execute_result"
    }
   ],
   "source": [
    "rand_n4 = np.random.uniform(low=0, high=12, size=(3,4))\n",
    "\n",
    "rand_n4"
   ]
  },
  {
   "cell_type": "markdown",
   "id": "0a8352fd",
   "metadata": {},
   "source": [
    "We have multiple methods to generate random elements\n",
    "\n",
    "- randint(): method to generate random int elements with size of array with random value ranges from low to high\n",
    "\n",
    "- random(): method to generate random float elements between 0 and 1 with size param which takes tuple to specify the dimension of array\n",
    "\n",
    "- rand(): simple method which takes dimensions as params to generate nD array with random float elements between 0 and 1\n",
    "\n",
    "- uniform(): creates a uniform distributiion between low and high with size of nd array"
   ]
  },
  {
   "cell_type": "code",
   "execution_count": 16,
   "id": "960cdd94",
   "metadata": {},
   "outputs": [
    {
     "data": {
      "text/plain": [
       "array([[0.95304188, 0.21656229, 0.73613937, 0.62804869],\n",
       "       [0.34080063, 0.02950663, 0.69071967, 0.67143632],\n",
       "       [0.91417274, 0.67332558, 0.38678946, 0.42210054]])"
      ]
     },
     "execution_count": 16,
     "metadata": {},
     "output_type": "execute_result"
    }
   ],
   "source": [
    "# We can take 1d array random and reshape using reshape()\n",
    "rand_nums = np.random.rand(12)\n",
    "rand_nums = rand_nums.reshape(3,4)\n",
    "rand_nums"
   ]
  },
  {
   "cell_type": "code",
   "execution_count": 17,
   "id": "bbdb80cf",
   "metadata": {},
   "outputs": [
    {
     "data": {
      "text/plain": [
       "array([[1., 0., 0.],\n",
       "       [0., 1., 0.],\n",
       "       [0., 0., 1.]])"
      ]
     },
     "execution_count": 17,
     "metadata": {},
     "output_type": "execute_result"
    }
   ],
   "source": [
    "# To get diagonal matrix\n",
    "np.eye(3,3)"
   ]
  },
  {
   "cell_type": "code",
   "execution_count": 18,
   "id": "209a15d0",
   "metadata": {},
   "outputs": [
    {
     "name": "stdout",
     "output_type": "stream",
     "text": [
      "nan\n",
      "nan\n",
      "nan\n",
      "False\n",
      "nan\n"
     ]
    }
   ],
   "source": [
    "# null values in numpy\n",
    "print(np.nan)\n",
    "\n",
    "print(0 * np.nan)\n",
    "\n",
    "print(10 + np.nan)\n",
    "\n",
    "print(np.nan == np.nan)\n",
    "\n",
    "print(np.nan - np.nan)"
   ]
  },
  {
   "cell_type": "code",
   "execution_count": 19,
   "id": "d0676221",
   "metadata": {},
   "outputs": [
    {
     "name": "stdout",
     "output_type": "stream",
     "text": [
      "inf\n",
      "True\n",
      "False\n",
      "False\n"
     ]
    }
   ],
   "source": [
    "# To get a infinite number\n",
    "print(np.inf)\n",
    "\n",
    "print(10000 < np.inf)\n",
    "\n",
    "print(np.inf > np.nan)\n",
    "\n",
    "print(np.inf < np.nan)"
   ]
  },
  {
   "cell_type": "code",
   "execution_count": 20,
   "id": "8d7eac49",
   "metadata": {},
   "outputs": [
    {
     "name": "stdout",
     "output_type": "stream",
     "text": [
      "False\n",
      "0.30000000000000004\n",
      "0.3\n",
      "True\n"
     ]
    }
   ],
   "source": [
    "# Some working of python interpreter/backend\n",
    "\n",
    "print(0.3 == 3*0.1)\n",
    "\n",
    "# It gives false because\n",
    "print(3 * 0.1)\n",
    "\n",
    "# If we round it\n",
    "print(round(3 * 0.1, 1))\n",
    "print(0.3 == round(3 * 0.1, 2))"
   ]
  },
  {
   "cell_type": "code",
   "execution_count": 21,
   "id": "9b90905a",
   "metadata": {},
   "outputs": [
    {
     "data": {
      "text/plain": [
       "array([[1, 0, 0, 0],\n",
       "       [0, 2, 0, 0],\n",
       "       [0, 0, 3, 0],\n",
       "       [0, 0, 0, 4]])"
      ]
     },
     "execution_count": 21,
     "metadata": {},
     "output_type": "execute_result"
    }
   ],
   "source": [
    "# To get a diagonal matrix\n",
    "np.diag(np.arange(1,5))\n",
    "# or\n",
    "np.diag(1+np.arange(4))"
   ]
  },
  {
   "cell_type": "code",
   "execution_count": 22,
   "id": "b895c8d0",
   "metadata": {},
   "outputs": [
    {
     "data": {
      "text/plain": [
       "array([[0, 1, 0, 0, 0],\n",
       "       [0, 0, 2, 0, 0],\n",
       "       [0, 0, 0, 3, 0],\n",
       "       [0, 0, 0, 0, 4],\n",
       "       [0, 0, 0, 0, 0]])"
      ]
     },
     "execution_count": 22,
     "metadata": {},
     "output_type": "execute_result"
    }
   ],
   "source": [
    "# To shift elements in diagonal matrix\n",
    "\n",
    "# Shifting elements above diagonal\n",
    "np.diag(np.arange(1,5), k=1)"
   ]
  },
  {
   "cell_type": "code",
   "execution_count": 23,
   "id": "151dcfe4",
   "metadata": {},
   "outputs": [
    {
     "data": {
      "text/plain": [
       "array([[0, 0, 0, 0, 0],\n",
       "       [1, 0, 0, 0, 0],\n",
       "       [0, 2, 0, 0, 0],\n",
       "       [0, 0, 3, 0, 0],\n",
       "       [0, 0, 0, 4, 0]])"
      ]
     },
     "execution_count": 23,
     "metadata": {},
     "output_type": "execute_result"
    }
   ],
   "source": [
    "# Shifting elements below diagonal\n",
    "np.diag(np.arange(1,5), k=-1)"
   ]
  },
  {
   "cell_type": "code",
   "execution_count": 24,
   "id": "240f242b",
   "metadata": {},
   "outputs": [
    {
     "data": {
      "text/plain": [
       "(np.int64(1), np.int64(1))"
      ]
     },
     "execution_count": 24,
     "metadata": {},
     "output_type": "execute_result"
    }
   ],
   "source": [
    "# To get row and col index of nth elements\n",
    "# For a 3x4 matrix the 5th element index is (1, 1)\n",
    "\n",
    "np.unravel_index(5, (3,4))"
   ]
  },
  {
   "cell_type": "code",
   "execution_count": 25,
   "id": "d3982658",
   "metadata": {},
   "outputs": [
    {
     "data": {
      "text/plain": [
       "(np.int32(1), np.int32(94))"
      ]
     },
     "execution_count": 25,
     "metadata": {},
     "output_type": "execute_result"
    }
   ],
   "source": [
    "# To get min and max values\n",
    "rand_n1.min(), rand_n1.max()"
   ]
  },
  {
   "cell_type": "code",
   "execution_count": 26,
   "id": "48efab90",
   "metadata": {},
   "outputs": [
    {
     "data": {
      "text/plain": [
       "(np.int32(1), np.int32(94))"
      ]
     },
     "execution_count": 26,
     "metadata": {},
     "output_type": "execute_result"
    }
   ],
   "source": [
    "np.min(rand_n1),np.max(rand_n1)"
   ]
  },
  {
   "cell_type": "code",
   "execution_count": 27,
   "id": "1ff5ba3e",
   "metadata": {},
   "outputs": [
    {
     "data": {
      "text/plain": [
       "(np.int64(891), np.float64(35.64), np.float64(35.0))"
      ]
     },
     "execution_count": 27,
     "metadata": {},
     "output_type": "execute_result"
    }
   ],
   "source": [
    "# Sum, mean\n",
    "np.sum(rand_n1), np.mean(rand_n1), np.median(rand_n1)"
   ]
  },
  {
   "cell_type": "code",
   "execution_count": 28,
   "id": "c1a4c75c",
   "metadata": {},
   "outputs": [
    {
     "data": {
      "text/plain": [
       "array([ 1,  3,  8,  9, 10, 10, 11, 15, 17, 17, 22, 33, 35, 39, 43, 44, 45,\n",
       "       46, 48, 50, 57, 72, 81, 81, 94], dtype=int32)"
      ]
     },
     "execution_count": 28,
     "metadata": {},
     "output_type": "execute_result"
    }
   ],
   "source": [
    "# Sorting nd array along no axis i.e, all elements\n",
    "np.sort(rand_n1, axis=None, kind='quicksort')"
   ]
  },
  {
   "cell_type": "code",
   "execution_count": null,
   "id": "3007aeb8",
   "metadata": {},
   "outputs": [
    {
     "data": {
      "text/plain": [
       "array([[10, 10, 46, 72, 81],\n",
       "       [11, 17, 17, 35, 39],\n",
       "       [ 1,  9, 44, 45, 57],\n",
       "       [ 3,  8, 15, 22, 50],\n",
       "       [33, 43, 48, 81, 94]], dtype=int32)"
      ]
     },
     "execution_count": 29,
     "metadata": {},
     "output_type": "execute_result"
    }
   ],
   "source": [
    "# Sorting nd array along axis=1 i.e, cols\n",
    "np.sort(rand_n1, axis=1, kind='quicksort')"
   ]
  },
  {
   "cell_type": "code",
   "execution_count": null,
   "id": "7fc9bfcc",
   "metadata": {},
   "outputs": [
    {
     "data": {
      "text/plain": [
       "array([[ 9,  3,  1, 10,  8],\n",
       "       [39, 11, 22, 15, 10],\n",
       "       [50, 33, 35, 17, 17],\n",
       "       [81, 57, 46, 45, 43],\n",
       "       [94, 72, 48, 81, 44]], dtype=int32)"
      ]
     },
     "execution_count": 30,
     "metadata": {},
     "output_type": "execute_result"
    }
   ],
   "source": [
    "# Sorting nd array along axis=0 i.e, rows\n",
    "np.sort(rand_n1, axis=0, kind='quicksort')"
   ]
  },
  {
   "cell_type": "code",
   "execution_count": 31,
   "id": "bbcfde95",
   "metadata": {},
   "outputs": [
    {
     "data": {
      "text/plain": [
       "array([[80, 71, 45,  9,  9],\n",
       "       [38, 10, 34, 16, 16],\n",
       "       [ 8, 56,  0, 44, 43],\n",
       "       [49,  2, 21, 14,  7],\n",
       "       [93, 32, 47, 80, 42]], dtype=int32)"
      ]
     },
     "execution_count": 31,
     "metadata": {},
     "output_type": "execute_result"
    }
   ],
   "source": [
    "rand_n1 - rand_n1.min()"
   ]
  },
  {
   "cell_type": "code",
   "execution_count": 32,
   "id": "e6b3e322",
   "metadata": {},
   "outputs": [],
   "source": [
    "arr1 = np.random.randint(1, 6, (3,4))\n",
    "arr2 = np.random.randint(1, 6, (4,3))"
   ]
  },
  {
   "cell_type": "code",
   "execution_count": 33,
   "id": "cfb2b58e",
   "metadata": {},
   "outputs": [
    {
     "data": {
      "text/plain": [
       "(array([[4, 3, 2, 1],\n",
       "        [1, 5, 2, 5],\n",
       "        [5, 1, 1, 1]], dtype=int32),\n",
       " array([[4, 5, 1],\n",
       "        [5, 1, 2],\n",
       "        [4, 4, 1],\n",
       "        [4, 1, 4]], dtype=int32))"
      ]
     },
     "execution_count": 33,
     "metadata": {},
     "output_type": "execute_result"
    }
   ],
   "source": [
    "arr1, arr2"
   ]
  },
  {
   "cell_type": "code",
   "execution_count": 34,
   "id": "1b249b6d",
   "metadata": {},
   "outputs": [
    {
     "data": {
      "text/plain": [
       "array([[43, 32, 16],\n",
       "       [57, 23, 33],\n",
       "       [33, 31, 12]], dtype=int32)"
      ]
     },
     "execution_count": 34,
     "metadata": {},
     "output_type": "execute_result"
    }
   ],
   "source": [
    "np.dot(arr1, arr2)"
   ]
  },
  {
   "cell_type": "code",
   "execution_count": 35,
   "id": "4460a030",
   "metadata": {},
   "outputs": [
    {
     "data": {
      "text/plain": [
       "array([[43, 32, 16],\n",
       "       [57, 23, 33],\n",
       "       [33, 31, 12]], dtype=int32)"
      ]
     },
     "execution_count": 35,
     "metadata": {},
     "output_type": "execute_result"
    }
   ],
   "source": [
    "arr1 @ arr2"
   ]
  },
  {
   "cell_type": "code",
   "execution_count": 36,
   "id": "debc03be",
   "metadata": {},
   "outputs": [
    {
     "data": {
      "text/plain": [
       "array([[0.57631359, 0.32366819, 0.64644303, 0.50458884, 0.80711457],\n",
       "       [0.73333731, 0.37042046, 0.49027249, 0.97080002, 0.89402503],\n",
       "       [0.43379453, 0.33297491, 0.94184892, 0.79064771, 0.64382412],\n",
       "       [0.25275278, 0.33049115, 0.66198327, 0.63758205, 0.68161915],\n",
       "       [0.00853036, 0.94985523, 0.93002806, 0.02264199, 0.43168341]])"
      ]
     },
     "execution_count": 36,
     "metadata": {},
     "output_type": "execute_result"
    }
   ],
   "source": [
    "# To get elements more than 5\n",
    "nd_arr = np.random.random(size=(5,5))\n",
    "nd_arr"
   ]
  },
  {
   "cell_type": "code",
   "execution_count": 37,
   "id": "88d83e0a",
   "metadata": {},
   "outputs": [
    {
     "name": "stdout",
     "output_type": "stream",
     "text": [
      "CPU times: total: 0 ns\n",
      "Wall time: 0 ns\n",
      "True False True True True \n",
      "True False False True True \n",
      "False False True True True \n",
      "False False True True True \n",
      "False True True False False \n"
     ]
    }
   ],
   "source": [
    "# Manual iterating using loops\n",
    "\n",
    "%time\n",
    "for row in range(nd_arr.shape[0]):\n",
    "    for col in range(nd_arr.shape[1]):\n",
    "        if nd_arr[row][col] > 0.5:\n",
    "            print(True, end=' ')\n",
    "        else:\n",
    "            print(False, end=' ')\n",
    "    print()"
   ]
  },
  {
   "cell_type": "code",
   "execution_count": 38,
   "id": "31033a89",
   "metadata": {},
   "outputs": [
    {
     "name": "stdout",
     "output_type": "stream",
     "text": [
      "CPU times: total: 0 ns\n",
      "Wall time: 0 ns\n"
     ]
    },
    {
     "data": {
      "text/plain": [
       "array([[False,  True, False, False, False],\n",
       "       [False,  True,  True, False, False],\n",
       "       [ True,  True, False, False, False],\n",
       "       [ True,  True, False, False, False],\n",
       "       [ True, False, False,  True,  True]])"
      ]
     },
     "execution_count": 38,
     "metadata": {},
     "output_type": "execute_result"
    }
   ],
   "source": [
    "# Using np\n",
    "%time\n",
    "~(nd_arr > 0.5)"
   ]
  },
  {
   "cell_type": "code",
   "execution_count": 39,
   "id": "fb390c12",
   "metadata": {},
   "outputs": [
    {
     "data": {
      "text/plain": [
       "array([0.57631359, 0.64644303, 0.50458884, 0.80711457, 0.73333731,\n",
       "       0.97080002, 0.89402503, 0.94184892, 0.79064771, 0.64382412,\n",
       "       0.66198327, 0.63758205, 0.68161915, 0.94985523, 0.93002806])"
      ]
     },
     "execution_count": 39,
     "metadata": {},
     "output_type": "execute_result"
    }
   ],
   "source": [
    "# To get/filters values of those elements\n",
    "nd_arr[~(nd_arr < 0.5)]"
   ]
  },
  {
   "cell_type": "code",
   "execution_count": 40,
   "id": "a2731d69",
   "metadata": {},
   "outputs": [
    {
     "name": "stdout",
     "output_type": "stream",
     "text": [
      "CPU times: total: 0 ns\n",
      "Wall time: 0 ns\n"
     ]
    },
    {
     "data": {
      "text/plain": [
       "array([[0.57631359, 3.23668188, 0.64644303, 0.50458884, 0.80711457],\n",
       "       [0.73333731, 3.70420457, 4.90272485, 0.97080002, 0.89402503],\n",
       "       [4.33794534, 3.32974911, 0.94184892, 0.79064771, 0.64382412],\n",
       "       [2.52752781, 3.30491146, 0.66198327, 0.63758205, 0.68161915],\n",
       "       [0.08530361, 0.94985523, 0.93002806, 0.22641987, 4.31683408]])"
      ]
     },
     "execution_count": 40,
     "metadata": {},
     "output_type": "execute_result"
    }
   ],
   "source": [
    "# Multiple values whereever there are <0.5\n",
    "%time\n",
    "nd_arr[~(nd_arr > 0.5)] = nd_arr[~(nd_arr > 0.5)] * 10\n",
    "nd_arr"
   ]
  },
  {
   "cell_type": "code",
   "execution_count": 41,
   "id": "5192ed63",
   "metadata": {},
   "outputs": [
    {
     "name": "stdout",
     "output_type": "stream",
     "text": [
      "CPU times: total: 0 ns\n",
      "Wall time: 0 ns\n"
     ]
    },
    {
     "data": {
      "text/plain": [
       "array([[ 5.76313594, 32.36681878,  6.46443032,  5.04588844,  8.07114575],\n",
       "       [ 7.33337309, 37.04204571, 49.02724853,  9.70800019,  8.94025031],\n",
       "       [43.37945345, 33.29749109,  9.41848918,  7.90647709,  6.43824121],\n",
       "       [25.27527808, 33.04911459,  6.61983271,  6.37582052,  6.81619152],\n",
       "       [ 0.08530361,  9.49855234,  9.30028064,  0.22641987, 43.16834079]])"
      ]
     },
     "execution_count": 41,
     "metadata": {},
     "output_type": "execute_result"
    }
   ],
   "source": [
    "%time\n",
    "np.where(~(nd_arr < 0.5), nd_arr * 10, nd_arr)"
   ]
  },
  {
   "cell_type": "code",
   "execution_count": 52,
   "id": "78323b76",
   "metadata": {},
   "outputs": [],
   "source": [
    "nd_arr1 = np.random.randint(1000, 9999, (20, 20))\n",
    "nd_arr2 = np.random.randint(1000, 9999, (20, 20))\n",
    "avg_val1 = np.mean(nd_arr1)\n",
    "avg_val2 = np.mean(nd_arr2)"
   ]
  },
  {
   "cell_type": "code",
   "execution_count": 53,
   "id": "0fb62dfb",
   "metadata": {},
   "outputs": [
    {
     "name": "stdout",
     "output_type": "stream",
     "text": [
      "CPU times: total: 0 ns\n",
      "Wall time: 0 ns\n"
     ]
    }
   ],
   "source": [
    "%time\n",
    "nd_arr1[nd_arr1 < avg_val1] = avg_val2"
   ]
  },
  {
   "cell_type": "code",
   "execution_count": 54,
   "id": "e548bd80",
   "metadata": {},
   "outputs": [
    {
     "name": "stdout",
     "output_type": "stream",
     "text": [
      "CPU times: total: 0 ns\n",
      "Wall time: 0 ns\n"
     ]
    },
    {
     "data": {
      "text/plain": [
       "array([[5600., 8006., 6594., 5593., 5600., 6297., 7779., 6920., 5600.,\n",
       "        6624., 5600., 5600., 8377., 5600., 5600., 7601., 5600., 5600.,\n",
       "        9274., 5600.],\n",
       "       [5600., 6932., 5600., 5991., 5600., 7037., 5600., 5600., 5600.,\n",
       "        6898., 5600., 5469., 5600., 8066., 5600., 6501., 8209., 7874.,\n",
       "        5600., 5600.],\n",
       "       [5600., 5487., 5699., 5600., 5600., 5620., 5600., 5600., 6511.,\n",
       "        6649., 5600., 5813., 6835., 5600., 6837., 5600., 5600., 5600.,\n",
       "        8617., 7095.],\n",
       "       [5600., 6031., 5600., 5600., 5600., 5600., 5600., 5600., 9867.,\n",
       "        5600., 5364., 5600., 5600., 9230., 8812., 6560., 5600., 5600.,\n",
       "        5600., 5481.],\n",
       "       [5600., 5600., 8691., 5600., 5600., 5600., 5600., 5600., 9667.,\n",
       "        8036., 8292., 8480., 5600., 9776., 5600., 7394., 5600., 5600.,\n",
       "        5600., 5600.],\n",
       "       [6112., 6436., 9313., 5600., 6629., 5600., 5778., 8046., 5600.,\n",
       "        6897., 5600., 5600., 5836., 9646., 9199., 9870., 5600., 5600.,\n",
       "        7428., 7367.],\n",
       "       [8862., 5600., 7758., 5600., 6547., 5600., 5600., 5600., 5600.,\n",
       "        5600., 5600., 5600., 7487., 8140., 8760., 5600., 9812., 9366.,\n",
       "        5600., 6767.],\n",
       "       [6109., 8727., 9213., 6817., 8568., 5600., 8583., 5600., 5600.,\n",
       "        5600., 5600., 8979., 8457., 9387., 9154., 5742., 8557., 5600.,\n",
       "        5600., 5461.],\n",
       "       [6671., 5600., 5600., 5600., 5600., 5600., 7891., 5967., 5600.,\n",
       "        5600., 6535., 9399., 5886., 5600., 5600., 5536., 7579., 6722.,\n",
       "        5833., 5600.],\n",
       "       [9187., 5600., 5600., 5600., 5600., 6619., 7063., 9373., 5600.,\n",
       "        9650., 5600., 9494., 5600., 6563., 5600., 5591., 6098., 5600.,\n",
       "        5600., 5600.],\n",
       "       [5600., 6528., 8421., 7807., 5600., 7402., 5600., 6975., 5600.,\n",
       "        5600., 5600., 5600., 5600., 5600., 5600., 7128., 5717., 6690.,\n",
       "        5600., 5600.],\n",
       "       [5600., 5600., 5600., 5600., 5600., 6191., 5600., 9031., 6895.,\n",
       "        7887., 9142., 5600., 8573., 5815., 5600., 5600., 5600., 7490.,\n",
       "        9394., 9385.],\n",
       "       [5600., 5600., 6026., 5600., 5974., 9685., 9797., 5600., 8126.,\n",
       "        5600., 6332., 5600., 5600., 5600., 9066., 5600., 7773., 5475.,\n",
       "        5600., 5600.],\n",
       "       [5600., 5600., 5600., 5600., 5600., 9518., 5600., 6710., 9531.,\n",
       "        5600., 5600., 5600., 6540., 5811., 5600., 5600., 8712., 5600.,\n",
       "        5600., 7499.],\n",
       "       [5600., 5600., 5600., 5600., 9377., 9591., 6531., 5600., 5600.,\n",
       "        8833., 8148., 5600., 7040., 9826., 5600., 6270., 5600., 7854.,\n",
       "        5600., 5600.],\n",
       "       [7186., 5469., 6659., 9584., 9955., 5600., 7856., 5600., 9813.,\n",
       "        8354., 5600., 8208., 5600., 6435., 5600., 5600., 6033., 5600.,\n",
       "        5600., 9382.],\n",
       "       [5600., 9820., 8497., 5600., 5600., 9951., 9593., 8186., 5600.,\n",
       "        6371., 6239., 6702., 5600., 5600., 5600., 5600., 6115., 6822.,\n",
       "        5600., 5600.],\n",
       "       [5600., 6200., 5600., 7882., 5600., 5600., 8736., 5600., 7289.,\n",
       "        5600., 7398., 8068., 5383., 6414., 9827., 5600., 5717., 9950.,\n",
       "        5600., 5600.],\n",
       "       [8408., 5600., 5600., 5600., 5600., 9007., 5600., 5600., 8497.,\n",
       "        8374., 5600., 5958., 5600., 7244., 5600., 8633., 5600., 5600.,\n",
       "        9454., 6346.],\n",
       "       [5600., 6103., 5600., 6756., 5600., 8897., 8301., 5600., 7590.,\n",
       "        5600., 5600., 5600., 5600., 5600., 5763., 5812., 9641., 7817.,\n",
       "        5600., 5600.]])"
      ]
     },
     "execution_count": 54,
     "metadata": {},
     "output_type": "execute_result"
    }
   ],
   "source": [
    "%time\n",
    "np.where(nd_arr1 < avg_val1, avg_val2, nd_arr1)"
   ]
  }
 ],
 "metadata": {
  "kernelspec": {
   "display_name": "Python 3",
   "language": "python",
   "name": "python3"
  },
  "language_info": {
   "codemirror_mode": {
    "name": "ipython",
    "version": 3
   },
   "file_extension": ".py",
   "mimetype": "text/x-python",
   "name": "python",
   "nbconvert_exporter": "python",
   "pygments_lexer": "ipython3",
   "version": "3.12.3"
  }
 },
 "nbformat": 4,
 "nbformat_minor": 5
}
